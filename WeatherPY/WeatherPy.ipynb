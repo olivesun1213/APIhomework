{
 "cells": [
  {
   "cell_type": "markdown",
   "metadata": {},
   "source": [
    "# WeatherPy\n",
    "----\n",
    "\n",
    "#### Note\n",
    "* Instructions have been included for each segment. You do not have to follow them exactly, but they are included to help you think through the steps."
   ]
  },
  {
   "cell_type": "code",
   "execution_count": 1,
   "metadata": {},
   "outputs": [],
   "source": [
    "#obeservations\n",
    "#1.latitude and humidity does not seem to have a relationship with cloudiness. This is true for both hemispheres\n",
    "#2. Temperature is stronly correlated with latitude. the close we get to latitude =0 (equator), the higher the temperature\n",
    "#3. Wind speed is somewhat related to latitude. it increases slightly as the latitude moves away from equator."
   ]
  },
  {
   "cell_type": "code",
   "execution_count": 2,
   "metadata": {
    "scrolled": true
   },
   "outputs": [],
   "source": [
    "# Dependencies and Setup\n",
    "import matplotlib.pyplot as plt\n",
    "import pandas as pd\n",
    "import numpy as np\n",
    "import requests\n",
    "import time\n",
    "from scipy.stats import linregress\n",
    "\n",
    "# Import API key\n",
    "from api_keys import weather_api_key\n",
    "\n",
    "# Incorporated citipy to determine city based on latitude and longitude\n",
    "from citipy import citipy\n",
    "\n",
    "# Output File (CSV)\n",
    "output_data_file = \"output_data/cities.csv\"\n",
    "\n",
    "# Range of latitudes and longitudes\n",
    "lat_range = (-90, 90)\n",
    "lng_range = (-180, 180)"
   ]
  },
  {
   "cell_type": "markdown",
   "metadata": {},
   "source": [
    "## Generate Cities List"
   ]
  },
  {
   "cell_type": "code",
   "execution_count": 3,
   "metadata": {},
   "outputs": [
    {
     "data": {
      "text/plain": [
       "598"
      ]
     },
     "execution_count": 3,
     "metadata": {},
     "output_type": "execute_result"
    }
   ],
   "source": [
    "# List for holding lat_lngs and cities\n",
    "lat_lngs = []\n",
    "cities = []\n",
    "\n",
    "# Create a set of random lat and lng combinations\n",
    "lats = np.random.uniform(lat_range[0], lat_range[1], size=1500)\n",
    "lngs = np.random.uniform(lng_range[0], lng_range[1], size=1500)\n",
    "lat_lngs = zip(lats, lngs)\n",
    "\n",
    "# Identify nearest city for each lat, lng combination\n",
    "for lat_lng in lat_lngs:\n",
    "    city = citipy.nearest_city(lat_lng[0], lat_lng[1]).city_name\n",
    "    \n",
    "    # If the city is unique, then add it to a our cities list\n",
    "    if city not in cities:\n",
    "        cities.append(city)\n",
    "\n",
    "# Print the city count to confirm sufficient count\n",
    "len(cities)"
   ]
  },
  {
   "cell_type": "markdown",
   "metadata": {},
   "source": [
    "### Perform API Calls\n",
    "* Perform a weather check on each city using a series of successive API calls.\n",
    "* Include a print log of each city as it'sbeing processed (with the city number and city name).\n"
   ]
  },
  {
   "cell_type": "code",
   "execution_count": 4,
   "metadata": {},
   "outputs": [
    {
     "name": "stdout",
     "output_type": "stream",
     "text": [
      "Beginning Data Retrieval\n",
      "-------------------------------\n",
      "Processing Record 1 of set 1 | Roseburg\n",
      "Processing Record 2 of set 1 | Souillac\n",
      "City not found. Skipping...\n",
      "Processing Record 3 of set 1 | Peña\n",
      "Processing Record 4 of set 1 | Havre-St-Pierre\n",
      "Processing Record 5 of set 1 | Bengkulu\n",
      "Processing Record 6 of set 1 | Atuona\n",
      "Processing Record 7 of set 1 | Srednekolymsk\n",
      "Processing Record 8 of set 1 | Punta Arenas\n",
      "Processing Record 9 of set 1 | New Norfolk\n",
      "Processing Record 10 of set 1 | Hithadhoo\n",
      "Processing Record 11 of set 1 | Qaanaaq\n",
      "Processing Record 12 of set 1 | Mar del Plata\n",
      "City not found. Skipping...\n",
      "Processing Record 13 of set 1 | Saint-Louis\n",
      "Processing Record 14 of set 1 | Ushuaia\n",
      "Processing Record 15 of set 1 | Dikson\n",
      "Processing Record 16 of set 1 | Busselton\n",
      "Processing Record 17 of set 1 | Inuvik\n",
      "Processing Record 18 of set 1 | Leshukonskoye\n",
      "Processing Record 19 of set 1 | East London\n",
      "Processing Record 20 of set 1 | Rikitea\n",
      "Processing Record 21 of set 1 | Bredasdorp\n",
      "Processing Record 22 of set 1 | Russell\n",
      "Processing Record 23 of set 1 | Karasjok\n",
      "City not found. Skipping...\n",
      "Processing Record 24 of set 1 | Grand Gaube\n",
      "Processing Record 25 of set 1 | Cape Town\n",
      "Processing Record 26 of set 1 | Binzhou\n",
      "Processing Record 27 of set 1 | Port Alfred\n",
      "Processing Record 28 of set 1 | Lompoc\n",
      "Processing Record 29 of set 1 | Jamestown\n",
      "Processing Record 30 of set 1 | Tessalit\n",
      "Processing Record 31 of set 1 | Saint-Philippe\n",
      "Processing Record 32 of set 1 | Hilo\n",
      "City not found. Skipping...\n",
      "Processing Record 33 of set 1 | Thompson\n",
      "Processing Record 34 of set 1 | Arraial do Cabo\n",
      "Processing Record 35 of set 1 | Necochea\n",
      "Processing Record 36 of set 1 | Tual\n",
      "Processing Record 37 of set 1 | Bellavista\n",
      "Processing Record 38 of set 1 | Chardara\n",
      "Processing Record 39 of set 1 | Saint-Augustin\n",
      "Processing Record 40 of set 1 | Sørland\n",
      "Processing Record 41 of set 1 | Esperance\n",
      "City not found. Skipping...\n",
      "Processing Record 42 of set 1 | Yulara\n",
      "Processing Record 43 of set 1 | Yerbogachën\n",
      "Processing Record 44 of set 1 | Puerto Ayora\n",
      "Processing Record 45 of set 1 | Lagoa\n",
      "Processing Record 46 of set 1 | Hermanus\n",
      "Processing Record 47 of set 1 | Mataura\n",
      "Processing Record 48 of set 1 | Kembé\n",
      "Processing Record 49 of set 1 | Santa Cruz del Sur\n",
      "Processing Record 50 of set 1 | Mount Isa\n",
      "Processing Record 1 of set 2 | Kahului\n",
      "Processing Record 2 of set 2 | Mokolo\n",
      "Processing Record 3 of set 2 | Sampit\n",
      "Processing Record 4 of set 2 | St. George's\n",
      "Processing Record 5 of set 2 | Saint George\n",
      "Processing Record 6 of set 2 | Saint Paul Harbor\n",
      "Processing Record 7 of set 2 | Muli\n",
      "Processing Record 8 of set 2 | Albany\n",
      "Processing Record 9 of set 2 | Mahébourg\n",
      "City not found. Skipping...\n",
      "Processing Record 10 of set 2 | Laas\n",
      "Processing Record 11 of set 2 | Laizhou\n",
      "Processing Record 12 of set 2 | Torbay\n",
      "Processing Record 13 of set 2 | Tasiilaq\n",
      "Processing Record 14 of set 2 | Dalby\n",
      "Processing Record 15 of set 2 | Caiapônia\n",
      "Processing Record 16 of set 2 | Hohhot\n",
      "Processing Record 17 of set 2 | Kapaa\n",
      "Processing Record 18 of set 2 | Carnarvon\n",
      "Processing Record 19 of set 2 | Kavieng\n",
      "Processing Record 20 of set 2 | Pimenteiras\n",
      "Processing Record 21 of set 2 | Tezu\n",
      "Processing Record 22 of set 2 | Plouzané\n",
      "Processing Record 23 of set 2 | Butaritari\n",
      "Processing Record 24 of set 2 | Bluff\n",
      "Processing Record 25 of set 2 | Ilulissat\n",
      "Processing Record 26 of set 2 | Kamenka\n",
      "Processing Record 27 of set 2 | Natal\n",
      "Processing Record 28 of set 2 | Riyadh\n",
      "Processing Record 29 of set 2 | Port Augusta\n",
      "Processing Record 30 of set 2 | San Patricio\n",
      "City not found. Skipping...\n",
      "Processing Record 31 of set 2 | Nikolskoye\n",
      "Processing Record 32 of set 2 | Verkhoyansk\n",
      "City not found. Skipping...\n",
      "Processing Record 33 of set 2 | San Juan del Paraná\n",
      "Processing Record 34 of set 2 | Presidencia Roque Sáenz Peña\n",
      "Processing Record 35 of set 2 | Eyl\n",
      "Processing Record 36 of set 2 | Lebu\n",
      "Processing Record 37 of set 2 | Buckingham\n",
      "Processing Record 38 of set 2 | Palafrugell\n",
      "Processing Record 39 of set 2 | Avarua\n",
      "Processing Record 40 of set 2 | Dingle\n",
      "Processing Record 41 of set 2 | Santa Luzia\n",
      "Processing Record 42 of set 2 | Ahipara\n",
      "Processing Record 43 of set 2 | Vaini\n",
      "City not found. Skipping...\n",
      "Processing Record 44 of set 2 | Mapastepec\n",
      "Processing Record 45 of set 2 | Laguna\n",
      "Processing Record 46 of set 2 | Malakal\n",
      "Processing Record 47 of set 2 | Severo-Kuril'sk\n",
      "Processing Record 48 of set 2 | Agüimes\n",
      "Processing Record 49 of set 2 | Airai\n",
      "Processing Record 50 of set 2 | Harper\n",
      "Processing Record 1 of set 3 | Yaan\n",
      "Processing Record 2 of set 3 | Sri Aman\n",
      "Processing Record 3 of set 3 | Niltepec\n",
      "Processing Record 4 of set 3 | Barrow\n",
      "Processing Record 5 of set 3 | San Cristobal\n",
      "Processing Record 6 of set 3 | Beringovskiy\n",
      "Processing Record 7 of set 3 | Pangoa\n",
      "Processing Record 8 of set 3 | Caucayá\n",
      "Processing Record 9 of set 3 | Provideniya\n",
      "Processing Record 10 of set 3 | Beausejour\n",
      "Processing Record 11 of set 3 | Clyde River\n",
      "Processing Record 12 of set 3 | Richards Bay\n",
      "Processing Record 13 of set 3 | Saskylakh\n",
      "Processing Record 14 of set 3 | Mazagão\n",
      "Processing Record 15 of set 3 | Florø\n",
      "Processing Record 16 of set 3 | George Town\n",
      "Processing Record 17 of set 3 | Arrondissement de Libourne\n",
      "Processing Record 18 of set 3 | Leningradskiy\n",
      "Processing Record 19 of set 3 | Coos Bay\n",
      "Processing Record 20 of set 3 | Lamu\n",
      "Processing Record 21 of set 3 | Port Blair\n",
      "Processing Record 22 of set 3 | Viesca\n",
      "Processing Record 23 of set 3 | Itoman\n",
      "Processing Record 24 of set 3 | Tarko-Sale\n",
      "Processing Record 25 of set 3 | Nakamura\n",
      "Processing Record 26 of set 3 | Shingū\n",
      "City not found. Skipping...\n",
      "Processing Record 27 of set 3 | Chokurdakh\n",
      "Processing Record 28 of set 3 | Sosnovo-Ozerskoye\n",
      "Processing Record 29 of set 3 | Piaçabuçu\n",
      "Processing Record 30 of set 3 | Adrar\n",
      "Processing Record 31 of set 3 | Santa Cruz\n",
      "Processing Record 32 of set 3 | Geraldton\n",
      "Processing Record 33 of set 3 | Bahía Solano\n",
      "Processing Record 34 of set 3 | Mareeba\n",
      "Processing Record 35 of set 3 | Vostok\n",
      "Processing Record 36 of set 3 | Tuy Hoa\n",
      "Processing Record 37 of set 3 | Inhambane\n",
      "Processing Record 38 of set 3 | Yellowknife\n",
      "Processing Record 39 of set 3 | Yining\n",
      "Processing Record 40 of set 3 | Kalisz\n",
      "Processing Record 41 of set 3 | Bagan\n",
      "Processing Record 42 of set 3 | Husavik\n",
      "Processing Record 43 of set 3 | Karagay\n",
      "Processing Record 44 of set 3 | Baykit\n",
      "Processing Record 45 of set 3 | Sibolga\n",
      "Processing Record 46 of set 3 | Lata\n",
      "Processing Record 47 of set 3 | Verkhniy Ufaley\n",
      "Processing Record 48 of set 3 | Rzhev\n",
      "Processing Record 49 of set 3 | Kropotkin\n",
      "Processing Record 50 of set 3 | Stolin\n",
      "Processing Record 1 of set 4 | Mokshan\n",
      "Processing Record 2 of set 4 | Naze\n",
      "Processing Record 3 of set 4 | Te Anau\n",
      "Processing Record 4 of set 4 | Santa Rosalía\n",
      "Processing Record 5 of set 4 | Puteyets\n",
      "Processing Record 6 of set 4 | São Filipe\n",
      "Processing Record 7 of set 4 | Lethem\n",
      "Processing Record 8 of set 4 | Praia\n",
      "Processing Record 9 of set 4 | Hasaki\n",
      "Processing Record 10 of set 4 | Buala\n",
      "Processing Record 11 of set 4 | São João da Barra\n",
      "Processing Record 12 of set 4 | Mosquera\n",
      "Processing Record 13 of set 4 | Vardø\n",
      "Processing Record 14 of set 4 | Broken Hill\n",
      "City not found. Skipping...\n",
      "Processing Record 15 of set 4 | Sokoto\n",
      "City not found. Skipping...\n",
      "Processing Record 16 of set 4 | Rawson\n",
      "Processing Record 17 of set 4 | Chippewa Falls\n",
      "Processing Record 18 of set 4 | Būkān\n",
      "City not found. Skipping...\n",
      "Processing Record 19 of set 4 | Līsakovsk\n",
      "Processing Record 20 of set 4 | Korčula\n",
      "Processing Record 21 of set 4 | Umluj\n",
      "Processing Record 22 of set 4 | Mabaruma\n",
      "Processing Record 23 of set 4 | Pevek\n",
      "City not found. Skipping...\n",
      "Processing Record 24 of set 4 | Slonim\n",
      "Processing Record 25 of set 4 | Port Hardy\n",
      "City not found. Skipping...\n",
      "Processing Record 26 of set 4 | Yamada\n",
      "Processing Record 27 of set 4 | Castro\n",
      "Processing Record 28 of set 4 | Stuttgart\n",
      "Processing Record 29 of set 4 | Ponta Delgada\n",
      "Processing Record 30 of set 4 | Yerköy\n",
      "Processing Record 31 of set 4 | Ribeira Grande\n",
      "City not found. Skipping...\n",
      "Processing Record 32 of set 4 | Saint-Leu\n",
      "Processing Record 33 of set 4 | Hay River\n",
      "Processing Record 34 of set 4 | Chapleau\n",
      "Processing Record 35 of set 4 | La Paz\n",
      "Processing Record 36 of set 4 | Luanda\n"
     ]
    },
    {
     "name": "stdout",
     "output_type": "stream",
     "text": [
      "Processing Record 37 of set 4 | Gaza\n",
      "Processing Record 38 of set 4 | Ossora\n",
      "Processing Record 39 of set 4 | Yermekeyevo\n",
      "Processing Record 40 of set 4 | Khatanga\n",
      "Processing Record 41 of set 4 | Chui\n",
      "Processing Record 42 of set 4 | Birao\n",
      "Processing Record 43 of set 4 | Catalina\n",
      "Processing Record 44 of set 4 | Porto-Novo\n",
      "Processing Record 45 of set 4 | Borogontsy\n",
      "Processing Record 46 of set 4 | Qaqortoq\n",
      "Processing Record 47 of set 4 | Kaitangata\n",
      "Processing Record 48 of set 4 | Huarmey\n",
      "Processing Record 49 of set 4 | Nyköping\n",
      "Processing Record 50 of set 4 | Muyezerskiy\n",
      "Processing Record 1 of set 5 | Bam\n",
      "Processing Record 2 of set 5 | Moussoro\n",
      "Processing Record 3 of set 5 | Kruisfontein\n",
      "Processing Record 4 of set 5 | Ketchikan\n",
      "Processing Record 5 of set 5 | Ust-Nera\n",
      "Processing Record 6 of set 5 | Yatou\n",
      "Processing Record 7 of set 5 | Hobart\n",
      "Processing Record 8 of set 5 | Sechura\n",
      "Processing Record 9 of set 5 | Nurota\n",
      "Processing Record 10 of set 5 | Carmelo\n",
      "Processing Record 11 of set 5 | Poiana Stampei\n",
      "Processing Record 12 of set 5 | Lagos\n",
      "Processing Record 13 of set 5 | Cururupu\n",
      "Processing Record 14 of set 5 | Marsá Maţrūḩ\n",
      "Processing Record 15 of set 5 | Hong Kong\n",
      "Processing Record 16 of set 5 | Meulaboh\n",
      "Processing Record 17 of set 5 | Desterro\n",
      "Processing Record 18 of set 5 | Mlowo\n",
      "Processing Record 19 of set 5 | Kathmandu\n",
      "Processing Record 20 of set 5 | Pangnirtung\n",
      "Processing Record 21 of set 5 | Los Llanos de Aridane\n",
      "Processing Record 22 of set 5 | Honiara\n",
      "Processing Record 23 of set 5 | Tanza\n",
      "Processing Record 24 of set 5 | Lavrentiya\n",
      "Processing Record 25 of set 5 | Ancud\n",
      "Processing Record 26 of set 5 | Fort Nelson\n",
      "Processing Record 27 of set 5 | Jaisalmer\n",
      "Processing Record 28 of set 5 | Sandnessjøen\n",
      "Processing Record 29 of set 5 | Kokopo\n",
      "Processing Record 30 of set 5 | Coolum Beach\n",
      "Processing Record 31 of set 5 | Beloretsk\n",
      "Processing Record 32 of set 5 | Auki\n",
      "Processing Record 33 of set 5 | Vestmanna\n",
      "Processing Record 34 of set 5 | Nanortalik\n",
      "City not found. Skipping...\n",
      "Processing Record 35 of set 5 | Tuatapere\n",
      "Processing Record 36 of set 5 | Sungai Penuh\n",
      "Processing Record 37 of set 5 | Verkhnevilyuysk\n",
      "Processing Record 38 of set 5 | Bereket\n",
      "Processing Record 39 of set 5 | Rio Grande\n",
      "Processing Record 40 of set 5 | Mineros\n",
      "Processing Record 41 of set 5 | Gillette\n",
      "Processing Record 42 of set 5 | College\n",
      "Processing Record 43 of set 5 | Nouadhibou\n",
      "Processing Record 44 of set 5 | Sitka\n",
      "Processing Record 45 of set 5 | Okha\n",
      "Processing Record 46 of set 5 | Flin Flon\n",
      "Processing Record 47 of set 5 | Gambēla\n",
      "Processing Record 48 of set 5 | Niquero\n",
      "Processing Record 49 of set 5 | Norman Wells\n",
      "Processing Record 50 of set 5 | Klaksvík\n",
      "Processing Record 1 of set 6 | Faanui\n",
      "Processing Record 2 of set 6 | Roebourne\n",
      "Processing Record 3 of set 6 | Tereze\n",
      "Processing Record 4 of set 6 | Cabo San Lucas\n",
      "Processing Record 5 of set 6 | Jalu\n",
      "Processing Record 6 of set 6 | Comodoro Rivadavia\n",
      "Processing Record 7 of set 6 | Bairnsdale\n",
      "Processing Record 8 of set 6 | Henties Bay\n",
      "Processing Record 9 of set 6 | Kumul\n",
      "Processing Record 10 of set 6 | Rey Bouba\n",
      "Processing Record 11 of set 6 | Xining\n",
      "Processing Record 12 of set 6 | Flinders\n",
      "Processing Record 13 of set 6 | Cherskiy\n",
      "Processing Record 14 of set 6 | Vila Velha\n",
      "Processing Record 15 of set 6 | Heishan\n",
      "Processing Record 16 of set 6 | Aizawl\n",
      "Processing Record 17 of set 6 | Samarai\n",
      "Processing Record 18 of set 6 | Staryy Nadym\n",
      "Processing Record 19 of set 6 | Newport\n",
      "Processing Record 20 of set 6 | Taltal\n",
      "City not found. Skipping...\n",
      "Processing Record 21 of set 6 | Suntar\n",
      "Processing Record 22 of set 6 | Ambulu\n",
      "Processing Record 23 of set 6 | Marabu\n",
      "Processing Record 24 of set 6 | Ōzu\n",
      "Processing Record 25 of set 6 | Alice Springs\n",
      "Processing Record 26 of set 6 | Wollongong\n",
      "Processing Record 27 of set 6 | Dongsheng\n",
      "Processing Record 28 of set 6 | Taoudenni\n",
      "Processing Record 29 of set 6 | Kununurra\n",
      "Processing Record 30 of set 6 | Neryungri\n",
      "Processing Record 31 of set 6 | Mahon\n",
      "Processing Record 32 of set 6 | Rocha\n",
      "Processing Record 33 of set 6 | Brownsville\n",
      "Processing Record 34 of set 6 | Saldanha\n",
      "City not found. Skipping...\n",
      "Processing Record 35 of set 6 | Labuhan\n",
      "Processing Record 36 of set 6 | Sidi Ali\n",
      "Processing Record 37 of set 6 | Tiznit Province\n",
      "Processing Record 38 of set 6 | Rovaniemi\n",
      "Processing Record 39 of set 6 | Hamilton\n",
      "Processing Record 40 of set 6 | Palmer\n",
      "Processing Record 41 of set 6 | Salalah\n",
      "Processing Record 42 of set 6 | Jinchang\n",
      "Processing Record 43 of set 6 | Barillas\n",
      "Processing Record 44 of set 6 | Tutóia\n",
      "Processing Record 45 of set 6 | Bitung\n",
      "Processing Record 46 of set 6 | São Miguel do Araguaia\n",
      "City not found. Skipping...\n",
      "Processing Record 47 of set 6 | Antalaha\n",
      "Processing Record 48 of set 6 | Cincu\n",
      "Processing Record 49 of set 6 | Udachny\n",
      "Processing Record 50 of set 6 | Mossamedes\n",
      "Processing Record 1 of set 7 | Kandrian\n",
      "Processing Record 2 of set 7 | Puro\n",
      "Processing Record 3 of set 7 | Belyy Yar\n",
      "Processing Record 4 of set 7 | Skeldon\n",
      "Processing Record 5 of set 7 | Ola\n",
      "Processing Record 6 of set 7 | Bethel\n",
      "Processing Record 7 of set 7 | Chāndbāli\n",
      "Processing Record 8 of set 7 | Havøysund\n",
      "Processing Record 9 of set 7 | Jepelacio\n",
      "Processing Record 10 of set 7 | Krasnosel'kup\n",
      "Processing Record 11 of set 7 | Chuzhou\n",
      "Processing Record 12 of set 7 | Boguchany\n",
      "Processing Record 13 of set 7 | Eidfjord\n",
      "Processing Record 14 of set 7 | Longyearbyen\n",
      "Processing Record 15 of set 7 | Shenzhen\n",
      "Processing Record 16 of set 7 | Paamiut\n",
      "Processing Record 17 of set 7 | Anadyr\n",
      "City not found. Skipping...\n",
      "Processing Record 18 of set 7 | Leh\n",
      "Processing Record 19 of set 7 | Alta Floresta\n",
      "Processing Record 20 of set 7 | Nyurba\n",
      "Processing Record 21 of set 7 | Rodrigues Alves\n",
      "Processing Record 22 of set 7 | Tromsø\n",
      "City not found. Skipping...\n",
      "Processing Record 23 of set 7 | Biltine\n",
      "Processing Record 24 of set 7 | Tuktoyaktuk\n",
      "Processing Record 25 of set 7 | La Ronge\n",
      "Processing Record 26 of set 7 | Reftinskiy\n",
      "Processing Record 27 of set 7 | Otrado-Olginskoye\n",
      "Processing Record 28 of set 7 | Hambantota\n",
      "Processing Record 29 of set 7 | Tiksi\n",
      "Processing Record 30 of set 7 | Havelock\n",
      "Processing Record 31 of set 7 | Narsaq\n",
      "Processing Record 32 of set 7 | Walvis Bay\n",
      "Processing Record 33 of set 7 | Mahon\n",
      "Processing Record 34 of set 7 | Loikaw\n",
      "Processing Record 35 of set 7 | Ponta do Sol\n",
      "Processing Record 36 of set 7 | Porbandar\n",
      "Processing Record 37 of set 7 | Malaya Serdoba\n",
      "Processing Record 38 of set 7 | Lorengau\n",
      "Processing Record 39 of set 7 | Alexandria\n",
      "Processing Record 40 of set 7 | Yelizovo\n",
      "Processing Record 41 of set 7 | Aklavik\n",
      "Processing Record 42 of set 7 | Ürümqi\n",
      "Processing Record 43 of set 7 | Solnechnyy\n",
      "Processing Record 44 of set 7 | Carutapera\n",
      "City not found. Skipping...\n",
      "City not found. Skipping...\n",
      "Processing Record 45 of set 7 | Ust-Maya\n",
      "Processing Record 46 of set 7 | Tabou\n",
      "Processing Record 47 of set 7 | Sinnamary\n",
      "Processing Record 48 of set 7 | Bambanglipuro\n",
      "Processing Record 49 of set 7 | Jiangyou\n",
      "Processing Record 50 of set 7 | Pontianak\n",
      "Processing Record 1 of set 8 | Cap Malheureux\n",
      "Processing Record 2 of set 8 | Hastings\n",
      "Processing Record 3 of set 8 | Folkestone\n",
      "Processing Record 4 of set 8 | Bubaque\n",
      "Processing Record 5 of set 8 | Estelle\n",
      "Processing Record 6 of set 8 | Rafsanjān\n",
      "Processing Record 7 of set 8 | Broome\n",
      "Processing Record 8 of set 8 | Itarema\n",
      "Processing Record 9 of set 8 | Baharly\n",
      "Processing Record 10 of set 8 | Mount Gambier\n",
      "Processing Record 11 of set 8 | Port Moresby\n",
      "City not found. Skipping...\n",
      "Processing Record 12 of set 8 | Tilichiki\n",
      "Processing Record 13 of set 8 | Natitingou\n",
      "Processing Record 14 of set 8 | Ozimek\n",
      "City not found. Skipping...\n",
      "Processing Record 15 of set 8 | Perth\n",
      "Processing Record 16 of set 8 | Bom Jesus\n",
      "Processing Record 17 of set 8 | Mfou\n",
      "Processing Record 18 of set 8 | Camacha\n",
      "Processing Record 19 of set 8 | Port Elizabeth\n",
      "Processing Record 20 of set 8 | Hobyo\n",
      "Processing Record 21 of set 8 | Upernavik\n",
      "Processing Record 22 of set 8 | Weirton\n",
      "Processing Record 23 of set 8 | Nhulunbuy\n",
      "Processing Record 24 of set 8 | Boa Vista\n",
      "Processing Record 25 of set 8 | Ust'-Ilimsk\n",
      "Processing Record 26 of set 8 | Bambous Virieux\n",
      "Processing Record 27 of set 8 | Tabuk\n",
      "Processing Record 28 of set 8 | Kang\n"
     ]
    },
    {
     "name": "stdout",
     "output_type": "stream",
     "text": [
      "Processing Record 29 of set 8 | Tarakan\n",
      "Processing Record 30 of set 8 | Arman'\n",
      "Processing Record 31 of set 8 | Mahibadhoo\n",
      "Processing Record 32 of set 8 | Piteå\n",
      "Processing Record 33 of set 8 | Kavaratti\n",
      "City not found. Skipping...\n",
      "Processing Record 34 of set 8 | Forécariah\n",
      "Processing Record 35 of set 8 | Surgut\n",
      "Processing Record 36 of set 8 | Bad Salzungen\n",
      "Processing Record 37 of set 8 | Matagami\n",
      "Processing Record 38 of set 8 | Colchester\n",
      "Processing Record 39 of set 8 | Sotik Post\n",
      "Processing Record 40 of set 8 | Nantucket\n",
      "City not found. Skipping...\n",
      "Processing Record 41 of set 8 | Juneau\n",
      "Processing Record 42 of set 8 | Westport\n",
      "Processing Record 43 of set 8 | Covington\n",
      "Processing Record 44 of set 8 | Nome\n",
      "Processing Record 45 of set 8 | Edd\n",
      "City not found. Skipping...\n",
      "City not found. Skipping...\n",
      "City not found. Skipping...\n",
      "Processing Record 46 of set 8 | Mazara del Vallo\n",
      "Processing Record 47 of set 8 | Nueva Guinea\n",
      "City not found. Skipping...\n",
      "Processing Record 48 of set 8 | Boende\n",
      "Processing Record 49 of set 8 | Bac Lieu\n",
      "City not found. Skipping...\n",
      "Processing Record 50 of set 8 | Ichinohe\n",
      "Processing Record 1 of set 9 | Fortuna\n",
      "Processing Record 2 of set 9 | Caraquet\n",
      "Processing Record 3 of set 9 | Barstow\n",
      "Processing Record 4 of set 9 | Ubatuba\n",
      "Processing Record 5 of set 9 | Paka\n",
      "Processing Record 6 of set 9 | Guerrero Negro\n",
      "City not found. Skipping...\n",
      "Processing Record 7 of set 9 | Lubango\n",
      "Processing Record 8 of set 9 | Skegness\n",
      "Processing Record 9 of set 9 | Vao\n",
      "Processing Record 10 of set 9 | Grootfontein\n",
      "Processing Record 11 of set 9 | Yangi Marg`ilon\n",
      "Processing Record 12 of set 9 | Sisimiut\n",
      "Processing Record 13 of set 9 | Ngunguru\n",
      "Processing Record 14 of set 9 | Ust-Tsilma\n",
      "Processing Record 15 of set 9 | Arlit\n",
      "Processing Record 16 of set 9 | Smithers\n",
      "City not found. Skipping...\n",
      "Processing Record 17 of set 9 | Verkhnyaya Inta\n",
      "Processing Record 18 of set 9 | Constitución\n",
      "Processing Record 19 of set 9 | Ca Mau\n",
      "Processing Record 20 of set 9 | Rāvar\n",
      "Processing Record 21 of set 9 | Matadi\n",
      "Processing Record 22 of set 9 | Akropong\n",
      "Processing Record 23 of set 9 | Mbini\n",
      "Processing Record 24 of set 9 | Vulcan\n",
      "City not found. Skipping...\n",
      "Processing Record 25 of set 9 | Coruripe\n",
      "Processing Record 26 of set 9 | Robertsport\n",
      "Processing Record 27 of set 9 | Sakakah\n",
      "Processing Record 28 of set 9 | Polis\n",
      "Processing Record 29 of set 9 | Mardin\n",
      "City not found. Skipping...\n",
      "Processing Record 30 of set 9 | Yangjiang\n",
      "Processing Record 31 of set 9 | Zermatt\n",
      "Processing Record 32 of set 9 | Apollonia\n",
      "Processing Record 33 of set 9 | Māndalgarh\n",
      "Processing Record 34 of set 9 | Calvià\n",
      "Processing Record 35 of set 9 | Bhawānipatna\n",
      "Processing Record 36 of set 9 | Tura\n",
      "City not found. Skipping...\n",
      "Processing Record 37 of set 9 | Gouyave\n",
      "City not found. Skipping...\n",
      "Processing Record 38 of set 9 | Waspán\n",
      "Processing Record 39 of set 9 | Porto San Giorgio\n",
      "Processing Record 40 of set 9 | Elliot Lake\n",
      "City not found. Skipping...\n",
      "Processing Record 41 of set 9 | Nishihara\n",
      "Processing Record 42 of set 9 | Soyo\n",
      "Processing Record 43 of set 9 | Kiama\n",
      "Processing Record 44 of set 9 | Marang\n",
      "Processing Record 45 of set 9 | Marfino\n",
      "Processing Record 46 of set 9 | Barra\n",
      "Processing Record 47 of set 9 | Ixtapa\n",
      "Processing Record 48 of set 9 | Jodhpur\n",
      "Processing Record 49 of set 9 | Oakdale\n",
      "Processing Record 50 of set 9 | Berlevåg\n",
      "Processing Record 1 of set 10 | Santa Maria\n",
      "Processing Record 2 of set 10 | Oranjemund\n",
      "Processing Record 3 of set 10 | Padang\n",
      "Processing Record 4 of set 10 | Cidreira\n",
      "City not found. Skipping...\n",
      "Processing Record 5 of set 10 | Port Lincoln\n",
      "Processing Record 6 of set 10 | Aktau\n",
      "Processing Record 7 of set 10 | Pierre\n",
      "Processing Record 8 of set 10 | Khanpur\n",
      "Processing Record 9 of set 10 | Moose Factory\n",
      "Processing Record 10 of set 10 | Rezh\n",
      "Processing Record 11 of set 10 | Chongwe\n",
      "Processing Record 12 of set 10 | Swan Hill\n",
      "Processing Record 13 of set 10 | Kalmunai\n",
      "City not found. Skipping...\n",
      "Processing Record 14 of set 10 | Nizhnyaya Poyma\n",
      "Processing Record 15 of set 10 | Sabana de Torres\n",
      "Processing Record 16 of set 10 | Angoram\n",
      "Processing Record 17 of set 10 | Tarkwa\n",
      "Processing Record 18 of set 10 | Olivenza\n",
      "Processing Record 19 of set 10 | Inyonga\n",
      "Processing Record 20 of set 10 | Bandarbeyla\n",
      "Processing Record 21 of set 10 | Torit\n",
      "Processing Record 22 of set 10 | Sioux Lookout\n",
      "Processing Record 23 of set 10 | Vestmannaeyjar\n",
      "City not found. Skipping...\n",
      "Processing Record 24 of set 10 | Chifeng\n",
      "Processing Record 25 of set 10 | Cervia\n",
      "Processing Record 26 of set 10 | Snåase\n",
      "Processing Record 27 of set 10 | Codrington\n",
      "Processing Record 28 of set 10 | Trincomalee\n",
      "Processing Record 29 of set 10 | Haines Junction\n",
      "Processing Record 30 of set 10 | Sawākin\n",
      "Processing Record 31 of set 10 | Katsuura\n",
      "Processing Record 32 of set 10 | Egvekinot\n",
      "Processing Record 33 of set 10 | Lancaster\n",
      "Processing Record 34 of set 10 | Namtsy\n",
      "Processing Record 35 of set 10 | Nieuw Amsterdam\n",
      "Processing Record 36 of set 10 | Tucuruí\n",
      "Processing Record 37 of set 10 | Khvoynaya\n",
      "Processing Record 38 of set 10 | Hanmer Springs\n",
      "Processing Record 39 of set 10 | Manta\n",
      "Processing Record 40 of set 10 | Mukhen\n",
      "Processing Record 41 of set 10 | Maragogi\n",
      "Processing Record 42 of set 10 | Danjiangkou\n",
      "Processing Record 43 of set 10 | Khuzhir\n",
      "Processing Record 44 of set 10 | Kendari\n",
      "City not found. Skipping...\n",
      "Processing Record 45 of set 10 | Zatoka\n",
      "Processing Record 46 of set 10 | Pozo Colorado\n",
      "Processing Record 47 of set 10 | Poum\n",
      "Processing Record 48 of set 10 | Zhigansk\n",
      "Processing Record 49 of set 10 | Lebanon\n",
      "Processing Record 50 of set 10 | Bonavista\n",
      "Processing Record 1 of set 11 | Djebeniana\n",
      "Processing Record 2 of set 11 | Aykhal\n",
      "Processing Record 3 of set 11 | Sola\n",
      "Processing Record 4 of set 11 | Chara\n",
      "Processing Record 5 of set 11 | Puerto Carreño\n",
      "Processing Record 6 of set 11 | Grafton\n",
      "Processing Record 7 of set 11 | Heze\n",
      "Processing Record 8 of set 11 | Young\n",
      "Processing Record 9 of set 11 | Onguday\n",
      "Processing Record 10 of set 11 | Hirara\n",
      "Processing Record 11 of set 11 | Kitimat\n",
      "City not found. Skipping...\n",
      "Processing Record 12 of set 11 | Xingtai\n",
      "Processing Record 13 of set 11 | Halifax\n",
      "Processing Record 14 of set 11 | Grindavik\n",
      "Processing Record 15 of set 11 | Constantine\n",
      "Processing Record 16 of set 11 | Abu Samrah\n",
      "Processing Record 17 of set 11 | Pisco\n",
      "Processing Record 18 of set 11 | Asău\n",
      "Processing Record 19 of set 11 | Pitimbu\n",
      "Processing Record 20 of set 11 | San Juan\n",
      "Processing Record 21 of set 11 | Ostrovnoy\n",
      "Processing Record 22 of set 11 | Saint-Pierre\n",
      "Processing Record 23 of set 11 | Grande Prairie\n",
      "Processing Record 24 of set 11 | Kangaatsiaq\n",
      "Processing Record 25 of set 11 | İdil\n",
      "Processing Record 26 of set 11 | Wattegama\n",
      "Processing Record 27 of set 11 | Songjianghe\n",
      "Processing Record 28 of set 11 | Deputatsky\n",
      "Processing Record 29 of set 11 | Sohag\n",
      "Processing Record 30 of set 11 | Inta\n",
      "Processing Record 31 of set 11 | San Diego de la Unión\n",
      "Processing Record 32 of set 11 | Puerto Escondido\n",
      "Processing Record 33 of set 11 | Simões\n",
      "Processing Record 34 of set 11 | Basco\n",
      "Processing Record 35 of set 11 | Luohe\n",
      "Processing Record 36 of set 11 | Baghdad\n",
      "Processing Record 37 of set 11 | Uyuni\n",
      "Processing Record 38 of set 11 | Talnakh\n",
      "Processing Record 39 of set 11 | Pimentel\n",
      "Processing Record 40 of set 11 | Santa Marta\n",
      "Processing Record 41 of set 11 | Port Macquarie\n",
      "Processing Record 42 of set 11 | Kloulklubed\n",
      "Processing Record 43 of set 11 | Gizo Government Station\n",
      "Processing Record 44 of set 11 | Qui Nhon\n",
      "Processing Record 45 of set 11 | Kuching\n",
      "Processing Record 46 of set 11 | Ugoofaaru\n",
      "City not found. Skipping...\n",
      "Processing Record 47 of set 11 | Byron Bay\n",
      "Processing Record 48 of set 11 | Bathsheba\n",
      "Processing Record 49 of set 11 | Kirakira\n",
      "Processing Record 50 of set 11 | Belle Fourche\n",
      "Processing Record 1 of set 12 | Sorong\n",
      "Processing Record 2 of set 12 | Cayenne\n",
      "-------------------------------\n",
      "Data Retrival Complete\n"
     ]
    }
   ],
   "source": [
    "url = \"http://api.openweathermap.org/data/2.5/weather?units=Imperial&APPID=\" + weather_api_key\n",
    "#create an empty list to store API Data\n",
    "City_Name = []\n",
    "Lat = []\n",
    "Lng = []\n",
    "Max_temp = []\n",
    "Humidity = []\n",
    "Cloudiness = []\n",
    "Wind_speed = []\n",
    "Country = []\n",
    "Date = []\n",
    "\n",
    "# Start the log counter \n",
    "Number_counter=0\n",
    "Set_counter=1\n",
    "\n",
    "\n",
    "\n",
    "print(\"Beginning Data Retrieval\")\n",
    "print(\"-------------------------------\")\n",
    "\n",
    "#loop through cities to add to list \n",
    "for city in cities:  \n",
    "    \n",
    "    # Try statement to append calls where value is found \n",
    "    \n",
    "    try: \n",
    "        response = requests.get(f\"{url}&q={city}\").json() \n",
    "        City_Name.append(response[\"name\"])\n",
    "        Lat.append(response[\"coord\"][\"lat\"])\n",
    "        Lng.append(response[\"coord\"][\"lon\"])\n",
    "        Max_temp.append(response[\"main\"][\"temp_max\"])\n",
    "        Humidity.append(response[\"main\"][\"humidity\"])\n",
    "        Cloudiness.append(response[\"clouds\"][\"all\"])\n",
    "        Wind_speed.append(response[\"wind\"][\"speed\"])\n",
    "        Country.append(response[\"sys\"][\"country\"])\n",
    "        Date.append(response[\"dt\"])\n",
    "        Record = response[\"name\"]\n",
    "        if Number_counter==50:\n",
    "            Number_counter=0\n",
    "            Set_counter+=1\n",
    "        Number_counter+=1\n",
    "            \n",
    "        print(f\"Processing Record {Number_counter} of set {Set_counter} | {Record}\")\n",
    "    \n",
    "        time.sleep(1.00)\n",
    "    \n",
    "\n",
    "    # If no record found go to the next one\n",
    "    except:\n",
    "        print(\"City not found. Skipping...\")\n",
    "    continue\n",
    "    \n",
    "print(\"-------------------------------\")\n",
    "print(\"Data Retrival Complete\")\n",
    "\n"
   ]
  },
  {
   "cell_type": "markdown",
   "metadata": {},
   "source": [
    "### Convert Raw Data to DataFrame\n",
    "* Export the city data into a .csv.\n",
    "* Display the DataFrame"
   ]
  },
  {
   "cell_type": "code",
   "execution_count": 5,
   "metadata": {},
   "outputs": [
    {
     "name": "stdout",
     "output_type": "stream",
     "text": [
      "City          552\n",
      "Lat           552\n",
      "Lng           552\n",
      "Max Temp      552\n",
      "Humidity      552\n",
      "Cloudiness    552\n",
      "Wind Speed    552\n",
      "Country       552\n",
      "Date          552\n",
      "dtype: int64\n"
     ]
    },
    {
     "data": {
      "text/html": [
       "<div>\n",
       "<style scoped>\n",
       "    .dataframe tbody tr th:only-of-type {\n",
       "        vertical-align: middle;\n",
       "    }\n",
       "\n",
       "    .dataframe tbody tr th {\n",
       "        vertical-align: top;\n",
       "    }\n",
       "\n",
       "    .dataframe thead th {\n",
       "        text-align: right;\n",
       "    }\n",
       "</style>\n",
       "<table border=\"1\" class=\"dataframe\">\n",
       "  <thead>\n",
       "    <tr style=\"text-align: right;\">\n",
       "      <th></th>\n",
       "      <th>City</th>\n",
       "      <th>Lat</th>\n",
       "      <th>Lng</th>\n",
       "      <th>Max Temp</th>\n",
       "      <th>Humidity</th>\n",
       "      <th>Cloudiness</th>\n",
       "      <th>Wind Speed</th>\n",
       "      <th>Country</th>\n",
       "      <th>Date</th>\n",
       "    </tr>\n",
       "  </thead>\n",
       "  <tbody>\n",
       "    <tr>\n",
       "      <th>0</th>\n",
       "      <td>Roseburg</td>\n",
       "      <td>43.22</td>\n",
       "      <td>-123.34</td>\n",
       "      <td>89.60</td>\n",
       "      <td>24</td>\n",
       "      <td>1</td>\n",
       "      <td>10.29</td>\n",
       "      <td>US</td>\n",
       "      <td>1592618965</td>\n",
       "    </tr>\n",
       "    <tr>\n",
       "      <th>1</th>\n",
       "      <td>Souillac</td>\n",
       "      <td>-20.52</td>\n",
       "      <td>57.52</td>\n",
       "      <td>71.60</td>\n",
       "      <td>68</td>\n",
       "      <td>40</td>\n",
       "      <td>14.99</td>\n",
       "      <td>MU</td>\n",
       "      <td>1592618967</td>\n",
       "    </tr>\n",
       "    <tr>\n",
       "      <th>2</th>\n",
       "      <td>Peña</td>\n",
       "      <td>12.09</td>\n",
       "      <td>123.94</td>\n",
       "      <td>83.86</td>\n",
       "      <td>72</td>\n",
       "      <td>0</td>\n",
       "      <td>8.63</td>\n",
       "      <td>PH</td>\n",
       "      <td>1592618968</td>\n",
       "    </tr>\n",
       "    <tr>\n",
       "      <th>3</th>\n",
       "      <td>Havre-St-Pierre</td>\n",
       "      <td>50.23</td>\n",
       "      <td>-63.60</td>\n",
       "      <td>51.80</td>\n",
       "      <td>93</td>\n",
       "      <td>90</td>\n",
       "      <td>14.99</td>\n",
       "      <td>CA</td>\n",
       "      <td>1592618969</td>\n",
       "    </tr>\n",
       "    <tr>\n",
       "      <th>4</th>\n",
       "      <td>Bengkulu</td>\n",
       "      <td>-3.80</td>\n",
       "      <td>102.27</td>\n",
       "      <td>80.80</td>\n",
       "      <td>71</td>\n",
       "      <td>44</td>\n",
       "      <td>1.01</td>\n",
       "      <td>ID</td>\n",
       "      <td>1592618804</td>\n",
       "    </tr>\n",
       "  </tbody>\n",
       "</table>\n",
       "</div>"
      ],
      "text/plain": [
       "              City    Lat     Lng  Max Temp  Humidity  Cloudiness  Wind Speed  \\\n",
       "0         Roseburg  43.22 -123.34     89.60        24           1       10.29   \n",
       "1         Souillac -20.52   57.52     71.60        68          40       14.99   \n",
       "2             Peña  12.09  123.94     83.86        72           0        8.63   \n",
       "3  Havre-St-Pierre  50.23  -63.60     51.80        93          90       14.99   \n",
       "4         Bengkulu  -3.80  102.27     80.80        71          44        1.01   \n",
       "\n",
       "  Country        Date  \n",
       "0      US  1592618965  \n",
       "1      MU  1592618967  \n",
       "2      PH  1592618968  \n",
       "3      CA  1592618969  \n",
       "4      ID  1592618804  "
      ]
     },
     "execution_count": 5,
     "metadata": {},
     "output_type": "execute_result"
    }
   ],
   "source": [
    "weather={\"City\":City_Name,\n",
    "         \"Lat\":Lat,\n",
    "         \"Lng\":Lng,\n",
    "         \"Max Temp\":Max_temp,\n",
    "         \"Humidity\":Humidity,\n",
    "         \"Cloudiness\":Cloudiness,\n",
    "         \"Wind Speed\":Wind_speed,\n",
    "          \"Country\":Country,\n",
    "         \"Date\":Date}\n",
    "\n",
    "weather_df=pd.DataFrame(weather)\n",
    "print(weather_df.count())\n",
    "weather_df.head()"
   ]
  },
  {
   "cell_type": "code",
   "execution_count": 6,
   "metadata": {},
   "outputs": [],
   "source": [
    "weather_df.to_csv('weather_data.csv')"
   ]
  },
  {
   "cell_type": "markdown",
   "metadata": {},
   "source": [
    "## Inspect the data and remove the cities where the humidity > 100%.\n",
    "----\n",
    "Skip this step if there are no cities that have humidity > 100%. "
   ]
  },
  {
   "cell_type": "code",
   "execution_count": 7,
   "metadata": {},
   "outputs": [
    {
     "data": {
      "text/html": [
       "<div>\n",
       "<style scoped>\n",
       "    .dataframe tbody tr th:only-of-type {\n",
       "        vertical-align: middle;\n",
       "    }\n",
       "\n",
       "    .dataframe tbody tr th {\n",
       "        vertical-align: top;\n",
       "    }\n",
       "\n",
       "    .dataframe thead th {\n",
       "        text-align: right;\n",
       "    }\n",
       "</style>\n",
       "<table border=\"1\" class=\"dataframe\">\n",
       "  <thead>\n",
       "    <tr style=\"text-align: right;\">\n",
       "      <th></th>\n",
       "      <th>City</th>\n",
       "      <th>Lat</th>\n",
       "      <th>Lng</th>\n",
       "      <th>Max Temp</th>\n",
       "      <th>Humidity</th>\n",
       "      <th>Cloudiness</th>\n",
       "      <th>Wind Speed</th>\n",
       "      <th>Country</th>\n",
       "      <th>Date</th>\n",
       "    </tr>\n",
       "  </thead>\n",
       "  <tbody>\n",
       "  </tbody>\n",
       "</table>\n",
       "</div>"
      ],
      "text/plain": [
       "Empty DataFrame\n",
       "Columns: [City, Lat, Lng, Max Temp, Humidity, Cloudiness, Wind Speed, Country, Date]\n",
       "Index: []"
      ]
     },
     "execution_count": 7,
     "metadata": {},
     "output_type": "execute_result"
    }
   ],
   "source": [
    "humidity =weather_df.loc[weather_df[\"Humidity\"] > 100, :]\n",
    "humidity\n",
    "#no country with humidity over 100%"
   ]
  },
  {
   "cell_type": "markdown",
   "metadata": {},
   "source": [
    "## Plotting the Data\n",
    "* Use proper labeling of the plots using plot titles (including date of analysis) and axes labels.\n",
    "* Save the plotted figures as .pngs."
   ]
  },
  {
   "cell_type": "markdown",
   "metadata": {},
   "source": [
    "## Latitude vs. Temperature Plot"
   ]
  },
  {
   "cell_type": "code",
   "execution_count": 8,
   "metadata": {
    "scrolled": false
   },
   "outputs": [
    {
     "data": {
      "image/png": "[encoded data removed]",
      "text/plain": [
       "<Figure size 432x288 with 1 Axes>"
      ]
     },
     "metadata": {
      "needs_background": "light"
     },
     "output_type": "display_data"
    }
   ],
   "source": [
    "lattitude=weather_df[\"Lat\"]\n",
    "temperature=weather_df[\"Max Temp\"]\n",
    "plt.scatter(lattitude,temperature,marker=\"o\",color=\"b\",s=10,label=\"Lat vs Temp\")\n",
    "plt.grid(True)\n",
    "plt.title(\"Latitude vs. Temperature Plot '06/20/2020'\")\n",
    "plt.legend(loc=\"upper right\")\n",
    "plt.xlabel(\"Latitude\")\n",
    "plt.ylabel(\"Temperature\")\n",
    "plt.xlim(min(lattitude)-5, max(lattitude)+5)\n",
    "plt.ylim(min(temperature)-5,max(temperature)+5)\n",
    "plt.savefig(\"Weather_Output_PNG/Latitude_vs._Temperature_Plot.PNG\")\n",
    "plt.show()\n",
    "\n",
    "#this graph checks wether there's a relationship between latitutde the temperature.\n",
    "#if there's posititve correlation, it means the higher the lattitude, the higher the max temperature of the city. \n",
    "# if there's negative correlation, it means the higher the lattitude, the lower the max temperature of the city. otherwise there's no relationship.\n"
   ]
  },
  {
   "cell_type": "markdown",
   "metadata": {},
   "source": [
    "## Latitude vs. Humidity Plot"
   ]
  },
  {
   "cell_type": "code",
   "execution_count": 9,
   "metadata": {},
   "outputs": [
    {
     "data": {
      "image/png": "[encoded data removed]",
      "text/plain": [
       "<Figure size 432x288 with 1 Axes>"
      ]
     },
     "metadata": {
      "needs_background": "light"
     },
     "output_type": "display_data"
    }
   ],
   "source": [
    "\n",
    "lattitude=weather_df[\"Lat\"]\n",
    "humidity=weather_df[\"Humidity\"]\n",
    "plt.scatter(lattitude,humidity,marker=\"o\",color=\"b\",s=10,label=\"Lat vs Temp\")\n",
    "plt.grid(True)\n",
    "plt.title(\"Latitude vs. humidity Plot '06/20/2020'\")\n",
    "plt.legend(loc=\"lower right\")\n",
    "plt.xlabel(\"Latitude\")\n",
    "plt.ylabel(\"Humidity\")\n",
    "plt.xlim(min(lattitude)-5, max(lattitude)+5)\n",
    "plt.ylim(min(humidity)-5,max(humidity)+5)\n",
    "plt.savefig(\"Weather_Output_PNG/Latitude_vs._Humidity.PNG\")\n",
    "plt.show()\n",
    "#this graph checks wether there's a relationship between latitutde the humidity\n",
    "#if there's posititve correlation, it means the higher the lattitude, the higher the humidity of the city. \n",
    "# if there's negative correlation, it means the higher the lattitude, the lower the humidity of the city. otherwise there's no relationship.\n"
   ]
  },
  {
   "cell_type": "markdown",
   "metadata": {},
   "source": [
    "## Latitude vs. Cloudiness Plot"
   ]
  },
  {
   "cell_type": "code",
   "execution_count": 10,
   "metadata": {},
   "outputs": [
    {
     "data": {
      "image/png": "[encoded data removed]",
      "text/plain": [
       "<Figure size 432x288 with 1 Axes>"
      ]
     },
     "metadata": {
      "needs_background": "light"
     },
     "output_type": "display_data"
    }
   ],
   "source": [
    "lattitude=weather_df[\"Lat\"]\n",
    "cloudiness=weather_df[\"Cloudiness\"]\n",
    "plt.scatter(lattitude,cloudiness,marker=\"o\",color=\"b\",s=10,label=\"Lat vs Cloudiness\")\n",
    "plt.grid(True)\n",
    "plt.title(\"Latitude vs. cloudiness Plot '06/20/2020'\")\n",
    "plt.legend(loc=\"lower right\")\n",
    "plt.xlabel(\"Latitude\")\n",
    "plt.ylabel(\"Cloudiness\")\n",
    "plt.xlim(min(lattitude)-5, max(lattitude)+5)\n",
    "plt.ylim(min(cloudiness)-5,max(cloudiness)+5)\n",
    "plt.savefig(\"Weather_Output_PNG/Latitude_vs._Cloudiness.PNG\")\n",
    "plt.show()\n",
    "#this graph checks wether there's a relationship between latitutde the cloudiness\n",
    "#if there's posititve correlation, it means the higher the lattitude, the higher the cloudiness of the city. \n",
    "# if there's negative correlation, it means the higher the lattitude, the lower the cloudiness of the city. otherwise there's no relationship.\n",
    "\n"
   ]
  },
  {
   "cell_type": "markdown",
   "metadata": {},
   "source": [
    "## Latitude vs. Wind Speed Plot"
   ]
  },
  {
   "cell_type": "code",
   "execution_count": 11,
   "metadata": {},
   "outputs": [
    {
     "data": {
      "image/png": "[encoded data removed]",
      "text/plain": [
       "<Figure size 432x288 with 1 Axes>"
      ]
     },
     "metadata": {
      "needs_background": "light"
     },
     "output_type": "display_data"
    }
   ],
   "source": [
    "lattitude=weather_df[\"Lat\"]\n",
    "wind_speed=weather_df[\"Wind Speed\"]\n",
    "plt.scatter(lattitude,wind_speed,marker=\"o\",color=\"b\",s=10,label=\"Lat vs Wind Speed\")\n",
    "plt.grid(True)\n",
    "plt.title(\"Latitude vs. Wind Speed Plot '06/20/2020'\")\n",
    "plt.legend(loc=\"upper right\")\n",
    "plt.xlabel(\"Latitude\")\n",
    "plt.ylabel(\"Wind Speed\")\n",
    "plt.xlim(min(lattitude)-5, max(lattitude)+5)\n",
    "plt.ylim(min(wind_speed)-5,max(wind_speed)+5)\n",
    "plt.savefig(\"Weather_Output_PNG/Latitude_vs._Wind_Speed_Plot.PNG\")\n",
    "plt.show()\n",
    "#this graph checks wether there's a relationship between latitutde the Wind Speed\n",
    "#if there's posititve correlation, it means the higher the lattitude, the higher the Wind Speed of the city. \n",
    "# if there's negative correlation, it means the higher the lattitude, the lower the Wind Speed of the city. otherwise there's no relationship.\n",
    "\n"
   ]
  },
  {
   "cell_type": "markdown",
   "metadata": {},
   "source": [
    "## Linear Regression"
   ]
  },
  {
   "cell_type": "code",
   "execution_count": 13,
   "metadata": {},
   "outputs": [],
   "source": [
    "# Create Northern and Southern Hemisphere DataFrames\n",
    "Northern =weather_df.loc[weather_df[\"Lat\"]>=0,:]\n",
    "Southern=weather_df.loc[weather_df[\"Lat\"]<0, :]\n"
   ]
  },
  {
   "cell_type": "code",
   "execution_count": null,
   "metadata": {},
   "outputs": [],
   "source": []
  },
  {
   "cell_type": "markdown",
   "metadata": {},
   "source": [
    "####  Northern Hemisphere - Max Temp vs. Latitude Linear Regression"
   ]
  },
  {
   "cell_type": "code",
   "execution_count": 14,
   "metadata": {},
   "outputs": [
    {
     "data": {
      "image/png": "[encoded data removed]",
      "text/plain": [
       "<Figure size 432x288 with 1 Axes>"
      ]
     },
     "metadata": {
      "needs_background": "light"
     },
     "output_type": "display_data"
    },
    {
     "name": "stdout",
     "output_type": "stream",
     "text": [
      "The R squared is 0.4329577253437898\n"
     ]
    }
   ],
   "source": [
    "lattitude=Northern[\"Lat\"]\n",
    "temperature=Northern[\"Max Temp\"]\n",
    "#regresstion\n",
    "(slope, intercept, rvalue, pvalue, stderr) = linregress(lattitude, temperature)\n",
    "regress_values = lattitude * slope + intercept\n",
    "line_equation = \"y = \" + str(round(slope,2)) + \"x + \" + str(round(intercept,2))\n",
    "#plot\n",
    "plt.scatter(lattitude,temperature,marker=\"o\",color=\"b\",s=10,label=\"Lat vs Temp\")\n",
    "plt.plot(lattitude,regress_values,\"r-\")\n",
    "#format\n",
    "plt.title(\"Latitude vs. Temperature Plot '06/20/2020'\")\n",
    "plt.annotate(line_equation,(20,30),fontsize=10,color=\"red\")\n",
    "plt.legend(loc=\"upper right\")\n",
    "plt.xlabel(\"Latitude\")\n",
    "plt.ylabel(\"Temperature\")\n",
    "plt.xlim(min(lattitude)-5, max(lattitude)+5)\n",
    "plt.ylim(min(temperature)-5,max(temperature)+5)\n",
    "plt.savefig(\"Weather_Output_PNG/Northern_Latitude_vs._Temperature_Plot.PNG\")\n",
    "plt.show()\n",
    "rsquared=rvalue**2\n",
    "print(f\"The R squared is {rsquared}\")\n",
    "#lattitude is correlated with Temperature. the higher the tempature the further we move away from equator"
   ]
  },
  {
   "cell_type": "markdown",
   "metadata": {},
   "source": [
    "####  Southern Hemisphere - Max Temp vs. Latitude Linear Regression"
   ]
  },
  {
   "cell_type": "code",
   "execution_count": 15,
   "metadata": {},
   "outputs": [
    {
     "data": {
      "image/png": "[encoded data removed]",
      "text/plain": [
       "<Figure size 432x288 with 1 Axes>"
      ]
     },
     "metadata": {
      "needs_background": "light"
     },
     "output_type": "display_data"
    },
    {
     "name": "stdout",
     "output_type": "stream",
     "text": [
      "The R squared is 0.5222732465500187\n"
     ]
    }
   ],
   "source": [
    "lattitude=Southern[\"Lat\"]\n",
    "temperature=Southern[\"Max Temp\"]\n",
    "#regresstion\n",
    "(slope, intercept, rvalue, pvalue, stderr) = linregress(lattitude, temperature)\n",
    "regress_values = lattitude * slope + intercept\n",
    "line_equation = \"y = \" + str(round(slope,2)) + \"x + \" + str(round(intercept,2))\n",
    "#plot\n",
    "plt.scatter(lattitude,temperature,marker=\"o\",color=\"b\",s=10,label=\"Lat vs Temp\")\n",
    "plt.plot(lattitude,regress_values,\"r-\")\n",
    "#format\n",
    "plt.title(\"Latitude vs. Temperature Plot '06/20/2020'\")\n",
    "plt.annotate(line_equation,(-20,40),fontsize=10,color=\"red\")\n",
    "plt.legend(loc=\"lower right\")\n",
    "plt.xlabel(\"Latitude\")\n",
    "plt.ylabel(\"Temperature\")\n",
    "plt.xlim(min(lattitude)-5, max(lattitude)+5)\n",
    "plt.ylim(min(temperature)-5,max(temperature)+5)\n",
    "plt.savefig(\"Weather_Output_PNG/Southern_Latitude_vs._Temperature_Plot.PNG\")\n",
    "plt.show()\n",
    "rsquared=rvalue**2\n",
    "print(f\"The R squared is {rsquared}\")\n",
    "#lattitude is correlated with Temperature. the higher the tempature the closer we are to equator"
   ]
  },
  {
   "cell_type": "markdown",
   "metadata": {},
   "source": [
    "####  Northern Hemisphere - Humidity (%) vs. Latitude Linear Regression"
   ]
  },
  {
   "cell_type": "code",
   "execution_count": 16,
   "metadata": {},
   "outputs": [
    {
     "data": {
      "image/png": "[encoded data removed]",
      "text/plain": [
       "<Figure size 432x288 with 1 Axes>"
      ]
     },
     "metadata": {
      "needs_background": "light"
     },
     "output_type": "display_data"
    },
    {
     "name": "stdout",
     "output_type": "stream",
     "text": [
      "The R squared is 0.02194976821855589\n"
     ]
    }
   ],
   "source": [
    "lattitude=Northern[\"Lat\"]\n",
    "humidity=Northern[\"Humidity\"]\n",
    "#regresstion\n",
    "(slope, intercept, rvalue, pvalue, stderr) = linregress(lattitude, humidity)\n",
    "regress_values = lattitude * slope + intercept\n",
    "line_equation = \"y = \" + str(round(slope,2)) + \"x + \" + str(round(intercept,2))\n",
    "#plot\n",
    "plt.scatter(lattitude,humidity,marker=\"o\",color=\"b\",s=10,label=\"Lat vs Temp\")\n",
    "plt.plot(lattitude,regress_values,\"r-\")\n",
    "#format\n",
    "plt.title(\"Latitude vs. Humidity Plot '06/20/2020'\")\n",
    "plt.legend(loc=\"lower right\")\n",
    "plt.xlabel(\"Latitude\")\n",
    "plt.ylabel(\"Humidity\")\n",
    "plt.xlim(min(lattitude)-5, max(lattitude)+5)\n",
    "plt.ylim(min(humidity)-5,max(humidity)+5)\n",
    "plt.annotate(line_equation,(50,20),fontsize=10,color=\"red\")\n",
    "plt.savefig(\"Weather_Output_PNG/Northern_Latitude_vs._Humidity_Plot.PNG\")\n",
    "plt.show()\n",
    "rsquared=rvalue**2\n",
    "print(f\"The R squared is {rsquared}\")\n",
    "#humidity doesnt seem to be realted with latitude"
   ]
  },
  {
   "cell_type": "markdown",
   "metadata": {},
   "source": [
    "####  Southern Hemisphere - Humidity (%) vs. Latitude Linear Regression"
   ]
  },
  {
   "cell_type": "code",
   "execution_count": 17,
   "metadata": {},
   "outputs": [
    {
     "data": {
      "image/png": "[encoded data removed]",
      "text/plain": [
       "<Figure size 432x288 with 1 Axes>"
      ]
     },
     "metadata": {
      "needs_background": "light"
     },
     "output_type": "display_data"
    },
    {
     "name": "stdout",
     "output_type": "stream",
     "text": [
      "The R squared is 0.026090149649409655\n"
     ]
    }
   ],
   "source": [
    "lattitude=Southern[\"Lat\"]\n",
    "humidity=Southern[\"Humidity\"]\n",
    "#regresstion\n",
    "(slope, intercept, rvalue, pvalue, stderr) = linregress(lattitude, humidity)\n",
    "regress_values = lattitude * slope + intercept\n",
    "line_equation = \"y = \" + str(round(slope,2)) + \"x + \" + str(round(intercept,2))\n",
    "#plot\n",
    "plt.scatter(lattitude,humidity,marker=\"o\",color=\"b\",s=10,label=\"Lat vs Temp\")\n",
    "plt.plot(lattitude,regress_values,\"r-\")\n",
    "#format\n",
    "plt.title(\"Latitude vs. Humidity Plot '06/20/2020'\")\n",
    "plt.annotate(line_equation,(-50,30),fontsize=10,color=\"red\")\n",
    "plt.legend(loc=\"lower right\")\n",
    "plt.xlabel(\"Latitude\")\n",
    "plt.ylabel(\"Humidity\")\n",
    "plt.xlim(min(lattitude)-5, max(lattitude)+5)\n",
    "plt.ylim(min(humidity)-5,max(humidity)+5)\n",
    "plt.savefig(\"Weather_Output_PNG/Southern_Latitude_vs._Humidity_Plot.PNG\")\n",
    "plt.show()\n",
    "rsquared=rvalue**2\n",
    "print(f\"The R squared is {rsquared}\")\n",
    "#humidity doesnt seem to be realted with latitude"
   ]
  },
  {
   "cell_type": "markdown",
   "metadata": {},
   "source": [
    "####  Northern Hemisphere - Cloudiness (%) vs. Latitude Linear Regression"
   ]
  },
  {
   "cell_type": "code",
   "execution_count": 18,
   "metadata": {},
   "outputs": [
    {
     "data": {
      "image/png": "[encoded data removed]",
      "text/plain": [
       "<Figure size 432x288 with 1 Axes>"
      ]
     },
     "metadata": {
      "needs_background": "light"
     },
     "output_type": "display_data"
    },
    {
     "name": "stdout",
     "output_type": "stream",
     "text": [
      "The R squared is 0.0009178634159053719\n"
     ]
    }
   ],
   "source": [
    "lattitude=Northern[\"Lat\"]\n",
    "cloudiness=Northern[\"Cloudiness\"]\n",
    "#regresstion\n",
    "(slope, intercept, rvalue, pvalue, stderr) = linregress(lattitude, cloudiness)\n",
    "regress_values = lattitude * slope + intercept\n",
    "line_equation = \"y = \" + str(round(slope,2)) + \"x + \" + str(round(intercept,2))\n",
    "#plot\n",
    "plt.scatter(lattitude,cloudiness,marker=\"o\",color=\"b\",s=10,label=\"Lat vs Temp\")\n",
    "plt.plot(lattitude,regress_values,\"r-\")\n",
    "#format\n",
    "plt.title(\"Latitude vs. Cloudiness Plot '06/20/2020'\")\n",
    "plt.annotate(line_equation,(50,60),fontsize=10,color=\"red\")\n",
    "plt.legend(loc=\"lower right\")\n",
    "plt.xlabel(\"Latitude\")\n",
    "plt.ylabel(\"Cloudiness\")\n",
    "plt.xlim(min(lattitude)-5, max(lattitude)+5)\n",
    "plt.ylim(min(cloudiness)-5,max(cloudiness)+5)\n",
    "plt.savefig(\"Weather_Output_PNG/Northern_Latitude_vs._Cloudiness_Plot.PNG\")\n",
    "plt.show()\n",
    "rsquared=rvalue**2\n",
    "print(f\"The R squared is {rsquared}\")\n",
    "#cloudiness doesn't seem to be realted with latitude"
   ]
  },
  {
   "cell_type": "markdown",
   "metadata": {},
   "source": [
    "####  Southern Hemisphere - Cloudiness (%) vs. Latitude Linear Regression"
   ]
  },
  {
   "cell_type": "code",
   "execution_count": 19,
   "metadata": {},
   "outputs": [
    {
     "data": {
      "image/png": "[encoded data removed]",
      "text/plain": [
       "<Figure size 432x288 with 1 Axes>"
      ]
     },
     "metadata": {
      "needs_background": "light"
     },
     "output_type": "display_data"
    },
    {
     "name": "stdout",
     "output_type": "stream",
     "text": [
      "The R squared is 0.0005994580434909706\n"
     ]
    }
   ],
   "source": [
    "lattitude=Southern[\"Lat\"]\n",
    "cloudiness=Southern[\"Cloudiness\"]\n",
    "#regresstion\n",
    "(slope, intercept, rvalue, pvalue, stderr) = linregress(lattitude, cloudiness)\n",
    "regress_values = lattitude * slope + intercept\n",
    "line_equation = \"y = \" + str(round(slope,2)) + \"x + \" + str(round(intercept,2))\n",
    "#plot\n",
    "plt.scatter(lattitude,cloudiness,marker=\"o\",color=\"b\",s=10,label=\"Lat vs Temp\")\n",
    "plt.plot(lattitude,regress_values,\"r-\")\n",
    "#format\n",
    "plt.title(\"Latitude vs. Cloudiness Plot '06/20/2020'\")\n",
    "plt.annotate(line_equation,(-40,60),fontsize=10,color=\"red\")\n",
    "plt.legend(loc=\"lower right\")\n",
    "plt.xlabel(\"Latitude\")\n",
    "plt.ylabel(\"Cloudiness\")\n",
    "plt.xlim(min(lattitude)-5, max(lattitude)+5)\n",
    "plt.ylim(min(cloudiness)-5,max(cloudiness)+5)\n",
    "plt.savefig(\"Weather_Output_PNG/Souththern_Latitude_vs._Cloudiness_Plot.PNG\")\n",
    "plt.show()\n",
    "rsquared=rvalue**2\n",
    "print(f\"The R squared is {rsquared}\")\n",
    "#cloudiness doesn't seem to be realted with latitude"
   ]
  },
  {
   "cell_type": "markdown",
   "metadata": {},
   "source": [
    "####  Northern Hemisphere - Wind Speed (mph) vs. Latitude Linear Regression"
   ]
  },
  {
   "cell_type": "code",
   "execution_count": 20,
   "metadata": {
    "scrolled": true
   },
   "outputs": [
    {
     "data": {
      "image/png": "[encoded data removed]",
      "text/plain": [
       "<Figure size 432x288 with 1 Axes>"
      ]
     },
     "metadata": {
      "needs_background": "light"
     },
     "output_type": "display_data"
    },
    {
     "name": "stdout",
     "output_type": "stream",
     "text": [
      "The R squared is 0.00932335860579099\n"
     ]
    }
   ],
   "source": [
    "lattitude=Northern[\"Lat\"]\n",
    "wind_speed=Northern[\"Wind Speed\"]\n",
    "#regresstion\n",
    "(slope, intercept, rvalue, pvalue, stderr) = linregress(lattitude, wind_speed)\n",
    "regress_values = lattitude * slope + intercept\n",
    "line_equation = \"y = \" + str(round(slope,2)) + \"x + \" + str(round(intercept,2))\n",
    "#plot\n",
    "plt.scatter(lattitude,wind_speed,marker=\"o\",color=\"b\",s=10,label=\"Lat vs Temp\")\n",
    "plt.plot(lattitude,regress_values,\"r-\")\n",
    "#format\n",
    "plt.title(\"Latitude vs. Wind Speed Plot '06/20/2020'\")\n",
    "plt.annotate(line_equation,(50,30),fontsize=10,color=\"red\")\n",
    "plt.legend(loc=\"lower right\")\n",
    "plt.xlabel(\"Latitude\")\n",
    "plt.ylabel(\"Wind Speed\")\n",
    "plt.xlim(min(lattitude)-5, max(lattitude)+5)\n",
    "plt.ylim(min(wind_speed)-5,max(wind_speed)+5)\n",
    "plt.savefig(\"Weather_Output_PNG/Northern_Latitude_vs._Wind_Speed_Plot.PNG\")\n",
    "plt.show()\n",
    "rsquared=rvalue**2\n",
    "print(f\"The R squared is {rsquared}\")\n",
    "#wind speed slightly decrease as we move away from equator"
   ]
  },
  {
   "cell_type": "markdown",
   "metadata": {},
   "source": [
    "####  Southern Hemisphere - Wind Speed (mph) vs. Latitude Linear Regression"
   ]
  },
  {
   "cell_type": "code",
   "execution_count": 21,
   "metadata": {},
   "outputs": [
    {
     "data": {
      "image/png": "[encoded data removed]",
      "text/plain": [
       "<Figure size 432x288 with 1 Axes>"
      ]
     },
     "metadata": {
      "needs_background": "light"
     },
     "output_type": "display_data"
    },
    {
     "name": "stdout",
     "output_type": "stream",
     "text": [
      "The R squared is 0.03004939508732665\n"
     ]
    }
   ],
   "source": [
    "lattitude=Southern[\"Lat\"]\n",
    "wind_speed=Southern[\"Wind Speed\"]\n",
    "#regresstion\n",
    "(slope, intercept, rvalue, pvalue, stderr) = linregress(lattitude, wind_speed)\n",
    "regress_values = lattitude * slope + intercept\n",
    "line_equation = \"y = \" + str(round(slope,2)) + \"x + \" + str(round(intercept,2))\n",
    "#plot\n",
    "plt.scatter(lattitude,wind_speed,marker=\"o\",color=\"b\",s=10,label=\"Lat vs Temp\")\n",
    "plt.plot(lattitude,regress_values,\"r-\")\n",
    "#format\n",
    "plt.title(\"Latitude vs. Wind Speed Plot '06/20/2020'\")\n",
    "plt.annotate(line_equation,(-40,20),fontsize=10,color=\"red\")\n",
    "plt.legend(loc=\"lower right\")\n",
    "plt.xlabel(\"Latitude\")\n",
    "plt.ylabel(\"Wind Speed\")\n",
    "plt.xlim(min(lattitude)-5, max(lattitude)+5)\n",
    "plt.ylim(min(wind_speed)-5,max(wind_speed)+5)\n",
    "plt.savefig(\"Weather_Output_PNG/Southern_Latitude_vs._Wind_Speed_Plot.PNG\")\n",
    "plt.show()\n",
    "rsquared=rvalue**2\n",
    "print(f\"The R squared is {rsquared}\")\n",
    "#wind speed slightly increase as we move closer to"
   ]
  },
  {
   "cell_type": "code",
   "execution_count": null,
   "metadata": {},
   "outputs": [],
   "source": []
  }
 ],
 "metadata": {
  "anaconda-cloud": {},
  "kernel_info": {
   "name": "python3"
  },
  "kernelspec": {
   "display_name": "Python 3",
   "language": "python",
   "name": "python3"
  },
  "language_info": {
   "codemirror_mode": {
    "name": "ipython",
    "version": 3
   },
   "file_extension": ".py",
   "mimetype": "text/x-python",
   "name": "python",
   "nbconvert_exporter": "python",
   "pygments_lexer": "ipython3",
   "version": "3.7.6"
  },
  "latex_envs": {
   "LaTeX_envs_menu_present": true,
   "autoclose": false,
   "autocomplete": true,
   "bibliofile": "biblio.bib",
   "cite_by": "apalike",
   "current_citInitial": 1,
   "eqLabelWithNumbers": true,
   "eqNumInitial": 1,
   "hotkeys": {
    "equation": "Ctrl-E",
    "itemize": "Ctrl-I"
   },
   "labels_anchors": false,
   "latex_user_defs": false,
   "report_style_numbering": false,
   "user_envs_cfg": false
  },
  "nteract": {
   "version": "0.12.3"
  }
 },
 "nbformat": 4,
 "nbformat_minor": 2
}
