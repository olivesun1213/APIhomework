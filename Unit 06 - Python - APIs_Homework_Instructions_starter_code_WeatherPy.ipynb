{
 "cells": [
  {
   "cell_type": "markdown",
   "metadata": {},
   "source": [
    "# WeatherPy\n",
    "----\n",
    "\n",
    "#### Note\n",
    "* Instructions have been included for each segment. You do not have to follow them exactly, but they are included to help you think through the steps."
   ]
  },
  {
   "cell_type": "code",
   "execution_count": 1,
   "metadata": {
    "scrolled": true
   },
   "outputs": [],
   "source": [
    "# Dependencies and Setup\n",
    "import matplotlib.pyplot as plt\n",
    "import pandas as pd\n",
    "import numpy as np\n",
    "import requests\n",
    "import time\n",
    "from scipy.stats import linregress\n",
    "\n",
    "# Import API key\n",
    "from api_keys import weather_api_key\n",
    "\n",
    "# Incorporated citipy to determine city based on latitude and longitude\n",
    "from citipy import citipy\n",
    "\n",
    "# Output File (CSV)\n",
    "output_data_file = \"output_data/cities.csv\"\n",
    "\n",
    "# Range of latitudes and longitudes\n",
    "lat_range = (-90, 90)\n",
    "lng_range = (-180, 180)"
   ]
  },
  {
   "cell_type": "markdown",
   "metadata": {},
   "source": [
    "## Generate Cities List"
   ]
  },
  {
   "cell_type": "code",
   "execution_count": 79,
   "metadata": {},
   "outputs": [
    {
     "data": {
      "text/plain": [
       "557"
      ]
     },
     "execution_count": 79,
     "metadata": {},
     "output_type": "execute_result"
    }
   ],
   "source": [
    "# List for holding lat_lngs and cities\n",
    "lat_lngs = []\n",
    "cities = []\n",
    "\n",
    "# Create a set of random lat and lng combinations\n",
    "lats = np.random.uniform(lat_range[0], lat_range[1], size=1500)\n",
    "lngs = np.random.uniform(lng_range[0], lng_range[1], size=1500)\n",
    "lat_lngs = zip(lats, lngs)\n",
    "\n",
    "# Identify nearest city for each lat, lng combination\n",
    "for lat_lng in lat_lngs:\n",
    "    city = citipy.nearest_city(lat_lng[0], lat_lng[1]).city_name\n",
    "    \n",
    "    # If the city is unique, then add it to a our cities list\n",
    "    if city not in cities:\n",
    "        cities.append(city)\n",
    "\n",
    "# Print the city count to confirm sufficient count\n",
    "len(cities)"
   ]
  },
  {
   "cell_type": "markdown",
   "metadata": {},
   "source": [
    "### Perform API Calls\n",
    "* Perform a weather check on each city using a series of successive API calls.\n",
    "* Include a print log of each city as it'sbeing processed (with the city number and city name).\n"
   ]
  },
  {
   "cell_type": "code",
   "execution_count": 3,
   "metadata": {},
   "outputs": [
    {
     "name": "stdout",
     "output_type": "stream",
     "text": [
      "Beginning Data Retrieval\n",
      "-------------------------------\n",
      "Processing Record 1 | Sakakah\n",
      "Processing Record 2 | Chokurdakh\n",
      "Processing Record 3 | Saint-Philippe\n",
      "City not found. Skipping...\n",
      "Processing Record 4 | Matagami\n",
      "Processing Record 5 | Saskylakh\n",
      "Processing Record 6 | Albany\n",
      "Processing Record 7 | Prince Rupert\n",
      "Processing Record 8 | Atambua\n",
      "Processing Record 9 | Sørland\n",
      "Processing Record 10 | Hervey Bay\n",
      "Processing Record 11 | Vaini\n",
      "Processing Record 12 | Ponta do Sol\n",
      "Processing Record 13 | Sola\n",
      "City not found. Skipping...\n",
      "Processing Record 14 | Hamilton\n",
      "Processing Record 15 | Ciudad Bolivar\n",
      "Processing Record 16 | Yellowknife\n",
      "Processing Record 17 | Korla\n",
      "Processing Record 18 | Port Keats\n",
      "Processing Record 19 | Morón de la Frontera\n",
      "Processing Record 20 | Nioro\n",
      "Processing Record 21 | Ludvika\n",
      "Processing Record 22 | Ushuaia\n",
      "Processing Record 23 | Busselton\n",
      "Processing Record 24 | Immokalee\n",
      "City not found. Skipping...\n",
      "Processing Record 25 | Kieta\n",
      "Processing Record 26 | Torbay\n",
      "Processing Record 27 | Ust'-Ordynskiy\n",
      "Processing Record 28 | Bredasdorp\n",
      "Processing Record 29 | Mar del Plata\n",
      "Processing Record 30 | Puerto Ayora\n",
      "Processing Record 31 | Soyo\n",
      "Processing Record 32 | Ribeira Grande\n",
      "Processing Record 33 | Hilo\n",
      "Processing Record 34 | Pitimbu\n",
      "Processing Record 35 | Atuona\n",
      "Processing Record 36 | Grindavik\n",
      "Processing Record 37 | Clyde River\n",
      "Processing Record 38 | Bluff\n",
      "Processing Record 39 | Evanston\n",
      "Processing Record 40 | Maningrida\n",
      "Processing Record 41 | Ancud\n",
      "Processing Record 42 | Yining\n",
      "Processing Record 43 | Vorukh\n",
      "Processing Record 44 | Mataura\n",
      "Processing Record 45 | Iqaluit\n",
      "Processing Record 46 | Palana\n",
      "Processing Record 47 | Fare\n",
      "Processing Record 48 | Tías\n",
      "Processing Record 49 | East London\n",
      "Processing Record 50 | Kahului\n",
      "Processing Record 51 | Karratha\n",
      "Processing Record 52 | Mitsamiouli\n",
      "Processing Record 53 | Ituiutaba\n",
      "Processing Record 54 | Hasaki\n",
      "Processing Record 55 | Ambon City\n",
      "Processing Record 56 | Khatanga\n",
      "Processing Record 57 | New Norfolk\n",
      "Processing Record 58 | Kapaa\n",
      "Processing Record 59 | Guerrero Negro\n",
      "Processing Record 60 | Bacalar\n",
      "Processing Record 61 | Jalu\n",
      "Processing Record 62 | Makakilo City\n",
      "Processing Record 63 | Basco\n",
      "Processing Record 64 | Punta Arenas\n",
      "Processing Record 65 | Phan Thiet\n",
      "City not found. Skipping...\n",
      "Processing Record 66 | Hermanus\n",
      "Processing Record 67 | ‘Ewa Beach\n",
      "Processing Record 68 | Vanimo\n",
      "Processing Record 69 | Nipawin\n",
      "Processing Record 70 | Havøysund\n",
      "City not found. Skipping...\n",
      "Processing Record 71 | Grand Gaube\n",
      "City not found. Skipping...\n",
      "Processing Record 72 | Yakeshi\n",
      "Processing Record 73 | Bethel\n",
      "Processing Record 74 | Tasiilaq\n",
      "City not found. Skipping...\n",
      "City not found. Skipping...\n",
      "Processing Record 75 | Asău\n",
      "Processing Record 76 | Hobart\n",
      "Processing Record 77 | Suksun\n",
      "Processing Record 78 | Susanville\n",
      "Processing Record 79 | Portland\n",
      "Processing Record 80 | Guadalupe y Calvo\n",
      "Processing Record 81 | Tuy Hoa\n",
      "Processing Record 82 | Naryan-Mar\n",
      "Processing Record 83 | Rikitea\n",
      "Processing Record 84 | Port Elizabeth\n",
      "Processing Record 85 | Thompson\n",
      "City not found. Skipping...\n",
      "Processing Record 86 | San Matías\n",
      "Processing Record 87 | Saint-Augustin\n",
      "Processing Record 88 | Butaritari\n",
      "Processing Record 89 | Upernavik\n",
      "Processing Record 90 | Turukhansk\n",
      "City not found. Skipping...\n",
      "Processing Record 91 | Nemuro\n",
      "City not found. Skipping...\n",
      "Processing Record 92 | Avarua\n",
      "Processing Record 93 | San Patricio\n",
      "Processing Record 94 | São João da Barra\n",
      "Processing Record 95 | Tonekābon\n",
      "Processing Record 96 | Norman Wells\n",
      "Processing Record 97 | Soe\n",
      "City not found. Skipping...\n",
      "Processing Record 98 | Tuatapere\n",
      "Processing Record 99 | Nago\n",
      "Processing Record 100 | George Town\n",
      "Processing Record 101 | Nikolskoye\n",
      "Processing Record 102 | Saldanha\n",
      "Processing Record 103 | Lorengau\n",
      "City not found. Skipping...\n",
      "Processing Record 104 | Camocim\n",
      "Processing Record 105 | Port Blair\n",
      "Processing Record 106 | Ayan\n",
      "Processing Record 107 | Esik\n",
      "Processing Record 108 | Saint Paul Harbor\n",
      "Processing Record 109 | Lufkin\n",
      "City not found. Skipping...\n",
      "Processing Record 110 | Luau\n",
      "Processing Record 111 | Zhezkazgan\n",
      "Processing Record 112 | Longyearbyen\n",
      "Processing Record 113 | Seoul\n",
      "Processing Record 114 | Castro\n",
      "Processing Record 115 | Kirovskiy\n",
      "Processing Record 116 | Palauig\n",
      "Processing Record 117 | Lagoa\n",
      "Processing Record 118 | Kavieng\n",
      "Processing Record 119 | Santiago del Estero\n",
      "Processing Record 120 | Sampit\n",
      "Processing Record 121 | Port Alfred\n",
      "Processing Record 122 | Ulladulla\n",
      "Processing Record 123 | Sinnamary\n",
      "Processing Record 124 | Chisec\n",
      "Processing Record 125 | Chicama\n",
      "Processing Record 126 | Jamestown\n",
      "Processing Record 127 | Forsytheganj\n",
      "Processing Record 128 | Fortuna\n",
      "Processing Record 129 | Vila Velha\n",
      "Processing Record 130 | Gold Coast\n",
      "Processing Record 131 | Ponta Delgada\n",
      "Processing Record 132 | Necochea\n",
      "Processing Record 133 | General Roca\n",
      "Processing Record 134 | Comodoro Rivadavia\n",
      "Processing Record 135 | Souillac\n",
      "Processing Record 136 | Tiksi\n",
      "Processing Record 137 | Hobyo\n",
      "Processing Record 138 | Ilulissat\n",
      "Processing Record 139 | Cape Town\n",
      "Processing Record 140 | Fairbanks\n",
      "Processing Record 141 | Severo-Kuril'sk\n",
      "Processing Record 142 | Presidente Bernardes\n",
      "Processing Record 143 | Puqi\n",
      "Processing Record 144 | Laguna\n",
      "Processing Record 145 | Caravelas\n",
      "Processing Record 146 | Callaguip\n",
      "City not found. Skipping...\n",
      "Processing Record 147 | Constitución\n",
      "City not found. Skipping...\n",
      "Processing Record 148 | Barra de Tecoanapa\n",
      "Processing Record 149 | Kaitangata\n",
      "Processing Record 150 | Santarém\n",
      "City not found. Skipping...\n",
      "Processing Record 151 | Adrar\n",
      "City not found. Skipping...\n",
      "Processing Record 152 | Bengkulu\n",
      "Processing Record 153 | Sitka\n",
      "Processing Record 154 | Zainsk\n",
      "Processing Record 155 | Qaanaaq\n",
      "Processing Record 156 | Taltal\n",
      "Processing Record 157 | Novaya Igirma\n",
      "Processing Record 158 | Cabo San Lucas\n",
      "Processing Record 159 | Gravdal\n",
      "Processing Record 160 | Opuwo\n",
      "Processing Record 161 | Margate\n",
      "Processing Record 162 | Arraial do Cabo\n",
      "Processing Record 163 | Oodweyne\n",
      "Processing Record 164 | Mahīshādal\n",
      "Processing Record 165 | Araouane\n",
      "Processing Record 166 | Carnarvon\n",
      "Processing Record 167 | Konëvo\n",
      "Processing Record 168 | Jumla\n",
      "Processing Record 169 | Ahipara\n",
      "Processing Record 170 | Bonoua\n",
      "Processing Record 171 | Lebu\n",
      "Processing Record 172 | Teya\n",
      "Processing Record 173 | Gao\n",
      "Processing Record 174 | Paidha\n",
      "Processing Record 175 | Cheney\n",
      "City not found. Skipping...\n",
      "Processing Record 176 | Abonnema\n",
      "City not found. Skipping...\n",
      "Processing Record 177 | Mehamn\n",
      "Processing Record 178 | Mastung\n",
      "Processing Record 179 | Talara\n",
      "Processing Record 180 | Lake Havasu City\n",
      "Processing Record 181 | Coyhaique\n",
      "Processing Record 182 | Padang\n",
      "Processing Record 183 | Faanui\n",
      "Processing Record 184 | Bathsheba\n",
      "Processing Record 185 | Dobre Miasto\n",
      "Processing Record 186 | Sechura\n",
      "City not found. Skipping...\n",
      "Processing Record 187 | Nānākuli\n",
      "Processing Record 188 | Genhe\n",
      "Processing Record 189 | Tagusao\n",
      "Processing Record 190 | Mahébourg\n",
      "Processing Record 191 | Wattegama\n",
      "Processing Record 192 | Okhotsk\n",
      "Processing Record 193 | Kobryn\n",
      "Processing Record 194 | Sibu\n",
      "Processing Record 195 | Brae\n",
      "City not found. Skipping...\n",
      "Processing Record 196 | Klaksvík\n",
      "Processing Record 197 | Nikki\n",
      "Processing Record 198 | Onda\n",
      "Processing Record 199 | Kavaratti\n",
      "City not found. Skipping...\n",
      "Processing Record 200 | Tcholliré\n",
      "Processing Record 201 | Bilibino\n",
      "Processing Record 202 | Turkmenabat\n",
      "Processing Record 203 | Constantine\n",
      "Processing Record 204 | Kattivākkam\n",
      "Processing Record 205 | Maţāy\n",
      "Processing Record 206 | Vilyuysk\n",
      "Processing Record 207 | Amapá\n",
      "Processing Record 208 | Nome\n",
      "Processing Record 209 | Dwārka\n",
      "Processing Record 210 | Mazyr\n",
      "Processing Record 211 | Lüderitz\n",
      "Processing Record 212 | Cotonou\n",
      "Processing Record 213 | Cherskiy\n",
      "Processing Record 214 | Sikasso\n",
      "Processing Record 215 | Nador\n",
      "Processing Record 216 | Krasnosel'kup\n",
      "Processing Record 217 | Walvis Bay\n",
      "Processing Record 218 | Bonthe\n",
      "Processing Record 219 | Pevek\n",
      "Processing Record 220 | Vila Franca do Campo\n",
      "Processing Record 221 | Nikol'sk\n",
      "Processing Record 222 | Bone\n",
      "Processing Record 223 | Takoradze\n",
      "Processing Record 224 | Pakse\n",
      "Processing Record 225 | Ekhabi\n",
      "Processing Record 226 | Kakrāla\n",
      "Processing Record 227 | Muriaé\n",
      "Processing Record 228 | Barrow\n"
     ]
    },
    {
     "name": "stdout",
     "output_type": "stream",
     "text": [
      "Processing Record 229 | Pacific Grove\n",
      "Processing Record 230 | Paamiut\n",
      "Processing Record 231 | Salalah\n",
      "Processing Record 232 | Provideniya\n",
      "Processing Record 233 | Kenai\n",
      "Processing Record 234 | Belmonte\n",
      "Processing Record 235 | Dodge City\n",
      "Processing Record 236 | Bambous Virieux\n",
      "City not found. Skipping...\n",
      "City not found. Skipping...\n",
      "Processing Record 237 | Broome\n",
      "Processing Record 238 | Chui\n",
      "Processing Record 239 | Koshurnikovo\n",
      "Processing Record 240 | Tuktoyaktuk\n",
      "Processing Record 241 | The Valley\n",
      "Processing Record 242 | Faya\n",
      "City not found. Skipping...\n",
      "Processing Record 243 | La Rioja\n",
      "Processing Record 244 | Anchorage\n",
      "Processing Record 245 | Anadyr\n",
      "Processing Record 246 | Hualmay\n",
      "Processing Record 247 | Mokokchūng\n",
      "Processing Record 248 | Qasigiannguit\n",
      "Processing Record 249 | Arrecife\n",
      "Processing Record 250 | Stara Syniava\n",
      "Processing Record 251 | Batemans Bay\n",
      "Processing Record 252 | Cayenne\n",
      "City not found. Skipping...\n",
      "City not found. Skipping...\n",
      "Processing Record 253 | Saint-Pierre\n",
      "Processing Record 254 | San Rafael\n",
      "Processing Record 255 | Hong Kong\n",
      "Processing Record 256 | Leningradskiy\n",
      "Processing Record 257 | Amahai\n",
      "Processing Record 258 | Dandong\n",
      "Processing Record 259 | Kamenka\n",
      "Processing Record 260 | Sabha\n",
      "Processing Record 261 | Fort Nelson\n",
      "Processing Record 262 | Ambovombe\n",
      "Processing Record 263 | Bridlington\n",
      "Processing Record 264 | Hibbing\n",
      "Processing Record 265 | Parambu\n",
      "Processing Record 266 | Lavrentiya\n",
      "Processing Record 267 | San Cristobal\n",
      "Processing Record 268 | Lac du Bonnet\n",
      "Processing Record 269 | Narsaq\n",
      "City not found. Skipping...\n",
      "Processing Record 270 | Husavik\n",
      "Processing Record 271 | Tual\n",
      "Processing Record 272 | Arrondissement de Bastia\n",
      "Processing Record 273 | Coquimbo\n",
      "Processing Record 274 | Nantucket\n",
      "Processing Record 275 | Porto Nacional\n",
      "Processing Record 276 | Bubaque\n",
      "Processing Record 277 | Chunoyar\n",
      "Processing Record 278 | Kisangani\n",
      "Processing Record 279 | Taoudenni\n",
      "Processing Record 280 | Chichimila\n",
      "Processing Record 281 | Hai Duong\n",
      "Processing Record 282 | Saint George\n",
      "Processing Record 283 | Huanren\n",
      "Processing Record 284 | Sur\n",
      "City not found. Skipping...\n",
      "Processing Record 285 | ‘Āhuimanu\n",
      "Processing Record 286 | Arman'\n",
      "Processing Record 287 | Sisimiut\n",
      "Processing Record 288 | Tautira\n",
      "Processing Record 289 | Barcelona\n",
      "City not found. Skipping...\n",
      "Processing Record 290 | Markivka\n",
      "Processing Record 291 | Alofi\n",
      "Processing Record 292 | Ballina\n",
      "Processing Record 293 | Chapais\n",
      "Processing Record 294 | Puerto del Rosario\n",
      "Processing Record 295 | Iturama\n",
      "Processing Record 296 | Vao\n",
      "Processing Record 297 | Cadillac\n",
      "Processing Record 298 | Codrington\n",
      "Processing Record 299 | Harper\n",
      "Processing Record 300 | Valday\n",
      "Processing Record 301 | Fremont\n",
      "Processing Record 302 | Yārāda\n",
      "Processing Record 303 | Tessalit\n",
      "Processing Record 304 | Gondanglegi\n",
      "Processing Record 305 | Slave Lake\n",
      "Processing Record 306 | Imbituba\n",
      "Processing Record 307 | Sault Ste. Marie\n",
      "Processing Record 308 | Ucluelet\n",
      "Processing Record 309 | Kifrī\n",
      "Processing Record 310 | São Miguel do Araguaia\n",
      "Processing Record 311 | Avera\n",
      "Processing Record 312 | Casper\n",
      "Processing Record 313 | Kankaanpää\n",
      "Processing Record 314 | Gananoque\n",
      "City not found. Skipping...\n",
      "Processing Record 315 | Dikson\n",
      "Processing Record 316 | Olinda\n",
      "Processing Record 317 | Marsá Maţrūḩ\n",
      "Processing Record 318 | Dolores\n",
      "Processing Record 319 | Kirkwall\n",
      "Processing Record 320 | Stephenville\n",
      "Processing Record 321 | Samoded\n",
      "Processing Record 322 | Suhl\n",
      "Processing Record 323 | Muncar\n",
      "Processing Record 324 | Laas\n",
      "Processing Record 325 | Rock Hill\n",
      "Processing Record 326 | Udachny\n",
      "City not found. Skipping...\n",
      "City not found. Skipping...\n",
      "Processing Record 327 | Bend\n",
      "Processing Record 328 | Camacha\n",
      "Processing Record 329 | Dzheguta\n",
      "Processing Record 330 | Dingle\n",
      "Processing Record 331 | Muros\n",
      "Processing Record 332 | Dongtai\n",
      "Processing Record 333 | Henties Bay\n",
      "Processing Record 334 | Aitape\n",
      "Processing Record 335 | Aden\n",
      "Processing Record 336 | Nanga Eboko\n",
      "Processing Record 337 | Colón\n",
      "Processing Record 338 | Manbij\n",
      "Processing Record 339 | Arrondissement d'Ajaccio\n",
      "Processing Record 340 | Buraidah\n",
      "Processing Record 341 | Cockburn Town\n",
      "Processing Record 342 | Wonthaggi\n",
      "Processing Record 343 | Albion\n",
      "Processing Record 344 | Manokwari\n",
      "Processing Record 345 | Monterey\n",
      "Processing Record 346 | Mount Gambier\n",
      "Processing Record 347 | Maniitsoq\n",
      "Processing Record 348 | Egvekinot\n",
      "Processing Record 349 | Mbandaka\n",
      "Processing Record 350 | Manta\n",
      "City not found. Skipping...\n",
      "Processing Record 351 | Roanoke Rapids\n",
      "Processing Record 352 | Stromness\n",
      "City not found. Skipping...\n",
      "Processing Record 353 | Muisne\n",
      "Processing Record 354 | Porto-Novo\n",
      "Processing Record 355 | Beringovskiy\n",
      "Processing Record 356 | Road Town\n",
      "Processing Record 357 | Jolalpan\n",
      "Processing Record 358 | Vardø\n",
      "Processing Record 359 | Plungė\n",
      "Processing Record 360 | Vestmannaeyjar\n",
      "Processing Record 361 | Gävle\n",
      "Processing Record 362 | Katsina\n",
      "Processing Record 363 | Letterkenny\n",
      "Processing Record 364 | Pampas\n",
      "Processing Record 365 | Port Hueneme\n",
      "Processing Record 366 | Davidson\n",
      "Processing Record 367 | Srednekolymsk\n",
      "Processing Record 368 | Barnāla\n",
      "Processing Record 369 | Aksu\n",
      "Processing Record 370 | Charyshskoye\n",
      "City not found. Skipping...\n",
      "Processing Record 371 | Ixtapa\n",
      "Processing Record 372 | Yangi Marg`ilon\n",
      "Processing Record 373 | Broken Hill\n",
      "Processing Record 374 | Alta Gracia\n",
      "Processing Record 375 | Mongu\n",
      "Processing Record 376 | Pangnirtung\n",
      "Processing Record 377 | Eureka\n",
      "City not found. Skipping...\n",
      "Processing Record 378 | Stornoway\n",
      "Processing Record 379 | Ndélé\n",
      "Processing Record 380 | Evensk\n",
      "Processing Record 381 | Mount Isa\n",
      "Processing Record 382 | Hida\n",
      "Processing Record 383 | Praia\n",
      "Processing Record 384 | Nishihara\n",
      "Processing Record 385 | Meulaboh\n",
      "Processing Record 386 | Atyrau\n",
      "City not found. Skipping...\n",
      "Processing Record 387 | Christchurch\n",
      "Processing Record 388 | Biak\n",
      "Processing Record 389 | Trairi\n",
      "Processing Record 390 | Teloloapan\n",
      "Processing Record 391 | Beloha\n",
      "Processing Record 392 | Isangel\n",
      "Processing Record 393 | Vysokogornyy\n",
      "Processing Record 394 | Acapulco de Juárez\n",
      "City not found. Skipping...\n",
      "Processing Record 395 | Mossamedes\n",
      "Processing Record 396 | Bara\n",
      "Processing Record 397 | Miandrivazo\n",
      "Processing Record 398 | Katsuura\n",
      "Processing Record 399 | Guanambi\n",
      "Processing Record 400 | Kloulklubed\n",
      "Processing Record 401 | Omboué\n",
      "Processing Record 402 | Chase\n",
      "Processing Record 403 | Skjervøy\n",
      "Processing Record 404 | Bandarbeyla\n",
      "Processing Record 405 | Betsiamites\n",
      "Processing Record 406 | College\n",
      "City not found. Skipping...\n",
      "Processing Record 407 | Dekernes\n",
      "Processing Record 408 | Shelburne\n",
      "Processing Record 409 | Antofagasta\n",
      "Processing Record 410 | Tāttayyangārpettai\n",
      "Processing Record 411 | La Santisima Trinidad\n",
      "Processing Record 412 | Pedernales\n",
      "Processing Record 413 | Los Llanos de Aridane\n",
      "Processing Record 414 | Oissel\n",
      "Processing Record 415 | Abhā\n",
      "Processing Record 416 | Naze\n",
      "City not found. Skipping...\n",
      "Processing Record 417 | Mayo\n",
      "City not found. Skipping...\n",
      "Processing Record 418 | Riberalta\n",
      "City not found. Skipping...\n",
      "Processing Record 419 | Impfondo\n",
      "Processing Record 420 | Sokoni\n",
      "Processing Record 421 | Banikoara\n",
      "Processing Record 422 | Abu Samrah\n",
      "Processing Record 423 | Charters Towers\n",
      "Processing Record 424 | Mgandu\n",
      "Processing Record 425 | Ushtobe\n",
      "City not found. Skipping...\n",
      "Processing Record 426 | Eenhana\n",
      "Processing Record 427 | Arganil\n",
      "Processing Record 428 | Pangoa\n",
      "Processing Record 429 | Kismayo\n",
      "Processing Record 430 | Ayagoz\n",
      "Processing Record 431 | Kandrian\n",
      "Processing Record 432 | Pisco\n",
      "Processing Record 433 | Bani Walid\n",
      "Processing Record 434 | Saint-Joseph\n",
      "Processing Record 435 | Kargat\n",
      "Processing Record 436 | Nizhnevartovsk\n",
      "Processing Record 437 | At-Bashi\n",
      "Processing Record 438 | Geraldton\n",
      "Processing Record 439 | Ukiah\n",
      "Processing Record 440 | Djambala\n",
      "Processing Record 441 | Kiryat Gat\n",
      "Processing Record 442 | Tacuarembó\n",
      "Processing Record 443 | Dāmghān\n",
      "Processing Record 444 | Koygorodok\n",
      "Processing Record 445 | Kovūr\n",
      "Processing Record 446 | Rüdesheim an der Nahe\n",
      "Processing Record 447 | Whitehorse\n",
      "City not found. Skipping...\n",
      "Processing Record 448 | Fortuna Foothills\n",
      "Processing Record 449 | Nokaneng\n",
      "Processing Record 450 | Leninskoye\n",
      "Processing Record 451 | Sühbaatar\n",
      "Processing Record 452 | Umluj\n"
     ]
    },
    {
     "name": "stdout",
     "output_type": "stream",
     "text": [
      "Processing Record 453 | Filottrano\n",
      "Processing Record 454 | Olafsvik\n",
      "Processing Record 455 | Nongpoh\n",
      "Processing Record 456 | Muravlenko\n",
      "Processing Record 457 | Binga\n",
      "Processing Record 458 | Barabai\n",
      "Processing Record 459 | São Filipe\n",
      "Processing Record 460 | Morondava\n",
      "Processing Record 461 | Esperance\n",
      "City not found. Skipping...\n",
      "Processing Record 462 | Hambantota\n",
      "Processing Record 463 | Hithadhoo\n",
      "Processing Record 464 | Moerai\n",
      "Processing Record 465 | Kampot\n",
      "Processing Record 466 | São José do Rio Pardo\n",
      "Processing Record 467 | Berdigestyakh\n",
      "Processing Record 468 | Altay\n",
      "Processing Record 469 | Pingyi\n",
      "Processing Record 470 | Birao\n",
      "Processing Record 471 | Matara\n",
      "Processing Record 472 | Iquique\n",
      "Processing Record 473 | Kralendijk\n",
      "Processing Record 474 | Simbahan\n",
      "Processing Record 475 | Kyzyl-Suu\n",
      "Processing Record 476 | Sanbu\n",
      "Processing Record 477 | Goderich\n",
      "Processing Record 478 | Diu\n",
      "Processing Record 479 | Ostrovnoy\n",
      "Processing Record 480 | Karaton\n",
      "Processing Record 481 | Châtellerault\n",
      "Processing Record 482 | Alice Springs\n",
      "Processing Record 483 | Chumphon\n",
      "Processing Record 484 | Hauterive\n",
      "Processing Record 485 | Maceió\n",
      "Processing Record 486 | Roald\n",
      "Processing Record 487 | Zhigansk\n",
      "Processing Record 488 | Kodīnar\n",
      "Processing Record 489 | Nowy Dwór Gdański\n",
      "Processing Record 490 | Turochak\n",
      "Processing Record 491 | São Félix do Xingu\n",
      "Processing Record 492 | Ambilobe\n",
      "Processing Record 493 | Donskoye\n",
      "Processing Record 494 | Ugoofaaru\n",
      "Processing Record 495 | Pozo Colorado\n",
      "Processing Record 496 | Hofn\n",
      "Processing Record 497 | Shimokizukuri\n",
      "Processing Record 498 | Roswell\n",
      "Processing Record 499 | Marzuq\n",
      "Processing Record 500 | Hillsborough\n",
      "City not found. Skipping...\n",
      "Processing Record 501 | Pueblo Viejo\n",
      "Processing Record 502 | Dawlatabad\n",
      "Processing Record 503 | Solnechnyy\n",
      "Processing Record 504 | Makar'yev\n",
      "Processing Record 505 | Micheweni\n",
      "Processing Record 506 | Bowen\n",
      "Processing Record 507 | Lodja\n",
      "Processing Record 508 | Jacareacanga\n",
      "Processing Record 509 | Tarakan\n",
      "Processing Record 510 | Preobrazheniye\n",
      "Processing Record 511 | Cartagena\n",
      "Processing Record 512 | Vestmanna\n",
      "Processing Record 513 | Rio Grande\n",
      "City not found. Skipping...\n",
      "Processing Record 514 | Tilichiki\n",
      "Processing Record 515 | Cidreira\n",
      "Processing Record 516 | Grand-Santi\n",
      "Processing Record 517 | Maués\n",
      "Processing Record 518 | Dolinsk\n",
      "Processing Record 519 | Hwange\n",
      "Processing Record 520 | Hay River\n",
      "Processing Record 521 | Iwaki\n",
      "Processing Record 522 | Syedove\n",
      "Processing Record 523 | Horta\n",
      "Processing Record 524 | Saint-François\n",
      "Processing Record 525 | Bambanglipuro\n",
      "Processing Record 526 | Lompoc\n",
      "Processing Record 527 | Jefferson City\n",
      "Processing Record 528 | Banda Aceh\n",
      "Processing Record 529 | Pyaozerskiy\n",
      "Processing Record 530 | Boromo\n",
      "Processing Record 531 | Puerto Colombia\n",
      "Processing Record 532 | Nanortalik\n",
      "City not found. Skipping...\n",
      "Processing Record 533 | Sabang\n",
      "Processing Record 534 | Richards Bay\n",
      "Processing Record 535 | Puerto Carreño\n",
      "City not found. Skipping...\n",
      "Processing Record 536 | Seddon\n",
      "City not found. Skipping...\n",
      "Processing Record 537 | Qui Nhon\n",
      "Processing Record 538 | Shache\n",
      "Processing Record 539 | Pierre\n",
      "Processing Record 540 | Heraclea\n",
      "Processing Record 541 | Manatí\n",
      "Processing Record 542 | Arlit\n",
      "Processing Record 543 | Aklavik\n",
      "Processing Record 544 | Vallenar\n",
      "Processing Record 545 | Roebourne\n",
      "Processing Record 546 | Ust-Kuyga\n",
      "Processing Record 547 | Beidao\n",
      "Processing Record 548 | Sobolevo\n",
      "Processing Record 549 | Baykit\n",
      "City not found. Skipping...\n",
      "Processing Record 550 | Dalbeattie\n",
      "Processing Record 551 | Esplanada\n",
      "-------------------------------\n",
      "Data Retrival Complete\n"
     ]
    }
   ],
   "source": [
    "url = \"http://api.openweathermap.org/data/2.5/weather?units=Imperial&APPID=\" + weather_api_key\n",
    "#create an empty list to store API Data\n",
    "City_Name = []\n",
    "Lat = []\n",
    "Lng = []\n",
    "Max_temp = []\n",
    "Humidity = []\n",
    "Cloudiness = []\n",
    "Wind_speed = []\n",
    "Country = []\n",
    "Date = []\n",
    "\n",
    "# Start the log counter \n",
    "Log = 1\n",
    "\n",
    "\n",
    "print(\"Beginning Data Retrieval\")\n",
    "print(\"-------------------------------\")\n",
    "\n",
    "#loop through cities to add to list \n",
    "for city in cities:  \n",
    "    \n",
    "    # Try statement to append calls where value is found \n",
    "    \n",
    "    try: \n",
    "        response = requests.get(f\"{url}&q={city}\").json() \n",
    "        City_Name.append(response[\"name\"])\n",
    "        Lat.append(response[\"coord\"][\"lat\"])\n",
    "        Lng.append(response[\"coord\"][\"lon\"])\n",
    "        Max_temp.append(response[\"main\"][\"temp_max\"])\n",
    "        Humidity.append(response[\"main\"][\"humidity\"])\n",
    "        Cloudiness.append(response[\"clouds\"][\"all\"])\n",
    "        Wind_speed.append(response[\"wind\"][\"speed\"])\n",
    "        Country.append(response[\"sys\"][\"country\"])\n",
    "        Date.append(response[\"dt\"])\n",
    "        Record = response[\"name\"]\n",
    "        print(f\"Processing Record {Log} | {Record}\")\n",
    "        \n",
    "        \n",
    "        # Increase counter by one \n",
    "        Log= Log + 1\n",
    "        \n",
    "    \n",
    "        time.sleep(2.00)\n",
    "    \n",
    "    # \n",
    "    # If no record found go to the next one\n",
    "    except:\n",
    "        print(\"City not found. Skipping...\")\n",
    "    continue\n",
    "    \n",
    "print(\"-------------------------------\")\n",
    "print(\"Data Retrival Complete\")\n",
    "\n"
   ]
  },
  {
   "cell_type": "markdown",
   "metadata": {},
   "source": [
    "### Convert Raw Data to DataFrame\n",
    "* Export the city data into a .csv.\n",
    "* Display the DataFrame"
   ]
  },
  {
   "cell_type": "code",
   "execution_count": 16,
   "metadata": {},
   "outputs": [
    {
     "name": "stdout",
     "output_type": "stream",
     "text": [
      "City          551\n",
      "Lat           551\n",
      "Lng           551\n",
      "Max Temp      551\n",
      "Humidity      551\n",
      "Cloudiness    551\n",
      "Wind Speed    551\n",
      "Country       551\n",
      "Date          551\n",
      "dtype: int64\n"
     ]
    },
    {
     "data": {
      "text/html": [
       "<div>\n",
       "<style scoped>\n",
       "    .dataframe tbody tr th:only-of-type {\n",
       "        vertical-align: middle;\n",
       "    }\n",
       "\n",
       "    .dataframe tbody tr th {\n",
       "        vertical-align: top;\n",
       "    }\n",
       "\n",
       "    .dataframe thead th {\n",
       "        text-align: right;\n",
       "    }\n",
       "</style>\n",
       "<table border=\"1\" class=\"dataframe\">\n",
       "  <thead>\n",
       "    <tr style=\"text-align: right;\">\n",
       "      <th></th>\n",
       "      <th>City</th>\n",
       "      <th>Lat</th>\n",
       "      <th>Lng</th>\n",
       "      <th>Max Temp</th>\n",
       "      <th>Humidity</th>\n",
       "      <th>Cloudiness</th>\n",
       "      <th>Wind Speed</th>\n",
       "      <th>Country</th>\n",
       "      <th>Date</th>\n",
       "    </tr>\n",
       "  </thead>\n",
       "  <tbody>\n",
       "    <tr>\n",
       "      <th>0</th>\n",
       "      <td>Sakakah</td>\n",
       "      <td>29.97</td>\n",
       "      <td>40.21</td>\n",
       "      <td>93.20</td>\n",
       "      <td>8</td>\n",
       "      <td>0</td>\n",
       "      <td>10.29</td>\n",
       "      <td>SA</td>\n",
       "      <td>1592417631</td>\n",
       "    </tr>\n",
       "    <tr>\n",
       "      <th>1</th>\n",
       "      <td>Chokurdakh</td>\n",
       "      <td>70.63</td>\n",
       "      <td>147.92</td>\n",
       "      <td>63.43</td>\n",
       "      <td>50</td>\n",
       "      <td>27</td>\n",
       "      <td>10.11</td>\n",
       "      <td>RU</td>\n",
       "      <td>1592417489</td>\n",
       "    </tr>\n",
       "    <tr>\n",
       "      <th>2</th>\n",
       "      <td>Saint-Philippe</td>\n",
       "      <td>-21.36</td>\n",
       "      <td>55.77</td>\n",
       "      <td>69.80</td>\n",
       "      <td>88</td>\n",
       "      <td>75</td>\n",
       "      <td>26.40</td>\n",
       "      <td>RE</td>\n",
       "      <td>1592417393</td>\n",
       "    </tr>\n",
       "    <tr>\n",
       "      <th>3</th>\n",
       "      <td>Matagami</td>\n",
       "      <td>49.75</td>\n",
       "      <td>-77.63</td>\n",
       "      <td>86.00</td>\n",
       "      <td>45</td>\n",
       "      <td>1</td>\n",
       "      <td>12.75</td>\n",
       "      <td>CA</td>\n",
       "      <td>1592417637</td>\n",
       "    </tr>\n",
       "    <tr>\n",
       "      <th>4</th>\n",
       "      <td>Saskylakh</td>\n",
       "      <td>71.92</td>\n",
       "      <td>114.08</td>\n",
       "      <td>54.55</td>\n",
       "      <td>57</td>\n",
       "      <td>10</td>\n",
       "      <td>11.18</td>\n",
       "      <td>RU</td>\n",
       "      <td>1592417576</td>\n",
       "    </tr>\n",
       "  </tbody>\n",
       "</table>\n",
       "</div>"
      ],
      "text/plain": [
       "             City    Lat     Lng  Max Temp  Humidity  Cloudiness  Wind Speed  \\\n",
       "0         Sakakah  29.97   40.21     93.20         8           0       10.29   \n",
       "1      Chokurdakh  70.63  147.92     63.43        50          27       10.11   \n",
       "2  Saint-Philippe -21.36   55.77     69.80        88          75       26.40   \n",
       "3        Matagami  49.75  -77.63     86.00        45           1       12.75   \n",
       "4       Saskylakh  71.92  114.08     54.55        57          10       11.18   \n",
       "\n",
       "  Country        Date  \n",
       "0      SA  1592417631  \n",
       "1      RU  1592417489  \n",
       "2      RE  1592417393  \n",
       "3      CA  1592417637  \n",
       "4      RU  1592417576  "
      ]
     },
     "execution_count": 16,
     "metadata": {},
     "output_type": "execute_result"
    }
   ],
   "source": [
    "weather={\"City\":City_Name,\n",
    "         \"Lat\":Lat,\n",
    "         \"Lng\":Lng,\n",
    "         \"Max Temp\":Max_temp,\n",
    "         \"Humidity\":Humidity,\n",
    "         \"Cloudiness\":Cloudiness,\n",
    "         \"Wind Speed\":Wind_speed,\n",
    "          \"Country\":Country,\n",
    "         \"Date\":Date}\n",
    "\n",
    "weather_df=pd.DataFrame(weather)\n",
    "print(weather_df.count())\n",
    "weather_df.head()"
   ]
  },
  {
   "cell_type": "code",
   "execution_count": 20,
   "metadata": {},
   "outputs": [],
   "source": [
    "weather_df.to_csv('Output/weather_data.csv')"
   ]
  },
  {
   "cell_type": "markdown",
   "metadata": {},
   "source": [
    "## Inspect the data and remove the cities where the humidity > 100%.\n",
    "----\n",
    "Skip this step if there are no cities that have humidity > 100%. "
   ]
  },
  {
   "cell_type": "code",
   "execution_count": 22,
   "metadata": {},
   "outputs": [
    {
     "data": {
      "text/html": [
       "<div>\n",
       "<style scoped>\n",
       "    .dataframe tbody tr th:only-of-type {\n",
       "        vertical-align: middle;\n",
       "    }\n",
       "\n",
       "    .dataframe tbody tr th {\n",
       "        vertical-align: top;\n",
       "    }\n",
       "\n",
       "    .dataframe thead th {\n",
       "        text-align: right;\n",
       "    }\n",
       "</style>\n",
       "<table border=\"1\" class=\"dataframe\">\n",
       "  <thead>\n",
       "    <tr style=\"text-align: right;\">\n",
       "      <th></th>\n",
       "      <th>City</th>\n",
       "      <th>Lat</th>\n",
       "      <th>Lng</th>\n",
       "      <th>Max Temp</th>\n",
       "      <th>Humidity</th>\n",
       "      <th>Cloudiness</th>\n",
       "      <th>Wind Speed</th>\n",
       "      <th>Country</th>\n",
       "      <th>Date</th>\n",
       "    </tr>\n",
       "  </thead>\n",
       "  <tbody>\n",
       "  </tbody>\n",
       "</table>\n",
       "</div>"
      ],
      "text/plain": [
       "Empty DataFrame\n",
       "Columns: [City, Lat, Lng, Max Temp, Humidity, Cloudiness, Wind Speed, Country, Date]\n",
       "Index: []"
      ]
     },
     "execution_count": 22,
     "metadata": {},
     "output_type": "execute_result"
    }
   ],
   "source": [
    "humidity =weather_df.loc[weather_df[\"Humidity\"] > 100, :]\n",
    "humidity\n",
    "#no country with humidity over 100%"
   ]
  },
  {
   "cell_type": "markdown",
   "metadata": {},
   "source": [
    "## Plotting the Data\n",
    "* Use proper labeling of the plots using plot titles (including date of analysis) and axes labels.\n",
    "* Save the plotted figures as .pngs."
   ]
  },
  {
   "cell_type": "markdown",
   "metadata": {},
   "source": [
    "## Latitude vs. Temperature Plot"
   ]
  },
  {
   "cell_type": "code",
   "execution_count": 124,
   "metadata": {
    "scrolled": false
   },
   "outputs": [
    {
     "data": {
      "image/png": "[encoded data removed]",
      "text/plain": [
       "<Figure size 432x288 with 1 Axes>"
      ]
     },
     "metadata": {
      "needs_background": "light"
     },
     "output_type": "display_data"
    }
   ],
   "source": [
    "lattitude=weather_df[\"Lat\"]\n",
    "temperature=weather_df[\"Max Temp\"]\n",
    "plt.scatter(lattitude,temperature,marker=\"o\",color=\"b\",s=10,label=\"Lat vs Temp\")\n",
    "plt.grid(True)\n",
    "plt.title(\"Latitude vs. Temperature Plot '06/20/2020'\")\n",
    "plt.legend(loc=\"upper right\")\n",
    "plt.xlabel(\"Latitude\")\n",
    "plt.ylabel(\"Temperature\")\n",
    "plt.xlim(min(lattitude)-5, max(lattitude)+5)\n",
    "plt.ylim(min(temperature)-5,max(temperature)+5)\n",
    "plt.savefig(\"Output_PNG/Latitude_vs._Temperature_Plot.PNG\")\n",
    "plt.show()\n",
    "\n",
    "#this graph checks wether there's a relationship between latitutde the temperature.\n",
    "#if there's posititve correlation, it means the higher the lattitude, the higher the max temperature of the city. \n",
    "# if there's negative correlation, it means the higher the lattitude, the lower the max temperature of the city. otherwise there's no relationship.\n"
   ]
  },
  {
   "cell_type": "markdown",
   "metadata": {},
   "source": [
    "## Latitude vs. Humidity Plot"
   ]
  },
  {
   "cell_type": "code",
   "execution_count": 54,
   "metadata": {},
   "outputs": [
    {
     "data": {
      "image/png": "[encoded data removed]",
      "text/plain": [
       "<Figure size 432x288 with 1 Axes>"
      ]
     },
     "metadata": {
      "needs_background": "light"
     },
     "output_type": "display_data"
    }
   ],
   "source": [
    "\n",
    "lattitude=weather_df[\"Lat\"]\n",
    "humidity=weather_df[\"Humidity\"]\n",
    "plt.scatter(lattitude,humidity,marker=\"o\",color=\"b\",s=10,label=\"Lat vs Temp\")\n",
    "plt.grid(True)\n",
    "plt.title(\"Latitude vs. humidity Plot '06/20/2020'\")\n",
    "plt.legend(loc=\"lower right\")\n",
    "plt.xlabel(\"Latitude\")\n",
    "plt.ylabel(\"Humidity\")\n",
    "plt.xlim(min(lattitude)-5, max(lattitude)+5)\n",
    "plt.ylim(min(humidity)-5,max(humidity)+5)\n",
    "plt.savefig(\"Output_PNG/Latitude_vs._Humidity.PNG\")\n",
    "plt.show()\n",
    "#this graph checks wether there's a relationship between latitutde the humidity\n",
    "#if there's posititve correlation, it means the higher the lattitude, the higher the humidity of the city. \n",
    "# if there's negative correlation, it means the higher the lattitude, the lower the humidity of the city. otherwise there's no relationship.\n"
   ]
  },
  {
   "cell_type": "markdown",
   "metadata": {},
   "source": [
    "## Latitude vs. Cloudiness Plot"
   ]
  },
  {
   "cell_type": "code",
   "execution_count": 55,
   "metadata": {},
   "outputs": [
    {
     "data": {
      "image/png": "[encoded data removed]",
      "text/plain": [
       "<Figure size 432x288 with 1 Axes>"
      ]
     },
     "metadata": {
      "needs_background": "light"
     },
     "output_type": "display_data"
    }
   ],
   "source": [
    "lattitude=weather_df[\"Lat\"]\n",
    "cloudiness=weather_df[\"Cloudiness\"]\n",
    "plt.scatter(lattitude,cloudiness,marker=\"o\",color=\"b\",s=10,label=\"Lat vs Cloudiness\")\n",
    "plt.grid(True)\n",
    "plt.title(\"Latitude vs. cloudiness Plot '06/20/2020'\")\n",
    "plt.legend(loc=\"lower right\")\n",
    "plt.xlabel(\"Latitude\")\n",
    "plt.ylabel(\"Cloudiness\")\n",
    "plt.xlim(min(lattitude)-5, max(lattitude)+5)\n",
    "plt.ylim(min(cloudiness)-5,max(cloudiness)+5)\n",
    "plt.savefig(\"Output_PNG/Latitude_vs._Cloudiness.PNG\")\n",
    "plt.show()\n",
    "#this graph checks wether there's a relationship between latitutde the cloudiness\n",
    "#if there's posititve correlation, it means the higher the lattitude, the higher the cloudiness of the city. \n",
    "# if there's negative correlation, it means the higher the lattitude, the lower the cloudiness of the city. otherwise there's no relationship.\n",
    "\n"
   ]
  },
  {
   "cell_type": "markdown",
   "metadata": {},
   "source": [
    "## Latitude vs. Wind Speed Plot"
   ]
  },
  {
   "cell_type": "code",
   "execution_count": 56,
   "metadata": {},
   "outputs": [
    {
     "data": {
      "image/png": "[encoded data removed]",
      "text/plain": [
       "<Figure size 432x288 with 1 Axes>"
      ]
     },
     "metadata": {
      "needs_background": "light"
     },
     "output_type": "display_data"
    }
   ],
   "source": [
    "lattitude=weather_df[\"Lat\"]\n",
    "wind_speed=weather_df[\"Wind Speed\"]\n",
    "plt.scatter(lattitude,wind_speed,marker=\"o\",color=\"b\",s=10,label=\"Lat vs Wind Speed\")\n",
    "plt.grid(True)\n",
    "plt.title(\"Latitude vs. Wind Speed Plot '06/20/2020'\")\n",
    "plt.legend(loc=\"upper right\")\n",
    "plt.xlabel(\"Latitude\")\n",
    "plt.ylabel(\"Wind Speed\")\n",
    "plt.xlim(min(lattitude)-5, max(lattitude)+5)\n",
    "plt.ylim(min(wind_speed)-5,max(wind_speed)+5)\n",
    "plt.savefig(\"Output_PNG/Latitude_vs._Wind_Speed_Plot.PNG\")\n",
    "plt.show()\n",
    "#this graph checks wether there's a relationship between latitutde the Wind Speed\n",
    "#if there's posititve correlation, it means the higher the lattitude, the higher the Wind Speed of the city. \n",
    "# if there's negative correlation, it means the higher the lattitude, the lower the Wind Speed of the city. otherwise there's no relationship.\n",
    "\n"
   ]
  },
  {
   "cell_type": "markdown",
   "metadata": {},
   "source": [
    "## Linear Regression"
   ]
  },
  {
   "cell_type": "code",
   "execution_count": 81,
   "metadata": {},
   "outputs": [
    {
     "data": {
      "text/html": [
       "<div>\n",
       "<style scoped>\n",
       "    .dataframe tbody tr th:only-of-type {\n",
       "        vertical-align: middle;\n",
       "    }\n",
       "\n",
       "    .dataframe tbody tr th {\n",
       "        vertical-align: top;\n",
       "    }\n",
       "\n",
       "    .dataframe thead th {\n",
       "        text-align: right;\n",
       "    }\n",
       "</style>\n",
       "<table border=\"1\" class=\"dataframe\">\n",
       "  <thead>\n",
       "    <tr style=\"text-align: right;\">\n",
       "      <th></th>\n",
       "      <th>City</th>\n",
       "      <th>Lat</th>\n",
       "      <th>Lng</th>\n",
       "      <th>Max Temp</th>\n",
       "      <th>Humidity</th>\n",
       "      <th>Cloudiness</th>\n",
       "      <th>Wind Speed</th>\n",
       "      <th>Country</th>\n",
       "      <th>Date</th>\n",
       "    </tr>\n",
       "  </thead>\n",
       "  <tbody>\n",
       "    <tr>\n",
       "      <th>0</th>\n",
       "      <td>Sakakah</td>\n",
       "      <td>29.97</td>\n",
       "      <td>40.21</td>\n",
       "      <td>93.20</td>\n",
       "      <td>8</td>\n",
       "      <td>0</td>\n",
       "      <td>10.29</td>\n",
       "      <td>SA</td>\n",
       "      <td>1592417631</td>\n",
       "    </tr>\n",
       "    <tr>\n",
       "      <th>1</th>\n",
       "      <td>Chokurdakh</td>\n",
       "      <td>70.63</td>\n",
       "      <td>147.92</td>\n",
       "      <td>63.43</td>\n",
       "      <td>50</td>\n",
       "      <td>27</td>\n",
       "      <td>10.11</td>\n",
       "      <td>RU</td>\n",
       "      <td>1592417489</td>\n",
       "    </tr>\n",
       "    <tr>\n",
       "      <th>3</th>\n",
       "      <td>Matagami</td>\n",
       "      <td>49.75</td>\n",
       "      <td>-77.63</td>\n",
       "      <td>86.00</td>\n",
       "      <td>45</td>\n",
       "      <td>1</td>\n",
       "      <td>12.75</td>\n",
       "      <td>CA</td>\n",
       "      <td>1592417637</td>\n",
       "    </tr>\n",
       "    <tr>\n",
       "      <th>4</th>\n",
       "      <td>Saskylakh</td>\n",
       "      <td>71.92</td>\n",
       "      <td>114.08</td>\n",
       "      <td>54.55</td>\n",
       "      <td>57</td>\n",
       "      <td>10</td>\n",
       "      <td>11.18</td>\n",
       "      <td>RU</td>\n",
       "      <td>1592417576</td>\n",
       "    </tr>\n",
       "    <tr>\n",
       "      <th>5</th>\n",
       "      <td>Albany</td>\n",
       "      <td>42.60</td>\n",
       "      <td>-73.97</td>\n",
       "      <td>86.00</td>\n",
       "      <td>30</td>\n",
       "      <td>0</td>\n",
       "      <td>2.68</td>\n",
       "      <td>US</td>\n",
       "      <td>1592417380</td>\n",
       "    </tr>\n",
       "    <tr>\n",
       "      <th>...</th>\n",
       "      <td>...</td>\n",
       "      <td>...</td>\n",
       "      <td>...</td>\n",
       "      <td>...</td>\n",
       "      <td>...</td>\n",
       "      <td>...</td>\n",
       "      <td>...</td>\n",
       "      <td>...</td>\n",
       "      <td>...</td>\n",
       "    </tr>\n",
       "    <tr>\n",
       "      <th>545</th>\n",
       "      <td>Ust-Kuyga</td>\n",
       "      <td>70.02</td>\n",
       "      <td>135.60</td>\n",
       "      <td>69.85</td>\n",
       "      <td>51</td>\n",
       "      <td>2</td>\n",
       "      <td>7.00</td>\n",
       "      <td>RU</td>\n",
       "      <td>1592418769</td>\n",
       "    </tr>\n",
       "    <tr>\n",
       "      <th>546</th>\n",
       "      <td>Beidao</td>\n",
       "      <td>34.57</td>\n",
       "      <td>105.89</td>\n",
       "      <td>58.48</td>\n",
       "      <td>75</td>\n",
       "      <td>0</td>\n",
       "      <td>1.92</td>\n",
       "      <td>CN</td>\n",
       "      <td>1592418772</td>\n",
       "    </tr>\n",
       "    <tr>\n",
       "      <th>547</th>\n",
       "      <td>Sobolevo</td>\n",
       "      <td>54.43</td>\n",
       "      <td>31.90</td>\n",
       "      <td>65.55</td>\n",
       "      <td>83</td>\n",
       "      <td>0</td>\n",
       "      <td>6.82</td>\n",
       "      <td>RU</td>\n",
       "      <td>1592418774</td>\n",
       "    </tr>\n",
       "    <tr>\n",
       "      <th>548</th>\n",
       "      <td>Baykit</td>\n",
       "      <td>61.67</td>\n",
       "      <td>96.37</td>\n",
       "      <td>50.49</td>\n",
       "      <td>72</td>\n",
       "      <td>100</td>\n",
       "      <td>2.93</td>\n",
       "      <td>RU</td>\n",
       "      <td>1592418776</td>\n",
       "    </tr>\n",
       "    <tr>\n",
       "      <th>549</th>\n",
       "      <td>Dalbeattie</td>\n",
       "      <td>54.93</td>\n",
       "      <td>-3.82</td>\n",
       "      <td>68.00</td>\n",
       "      <td>85</td>\n",
       "      <td>95</td>\n",
       "      <td>1.01</td>\n",
       "      <td>GB</td>\n",
       "      <td>1592418778</td>\n",
       "    </tr>\n",
       "  </tbody>\n",
       "</table>\n",
       "<p>385 rows × 9 columns</p>\n",
       "</div>"
      ],
      "text/plain": [
       "           City    Lat     Lng  Max Temp  Humidity  Cloudiness  Wind Speed  \\\n",
       "0       Sakakah  29.97   40.21     93.20         8           0       10.29   \n",
       "1    Chokurdakh  70.63  147.92     63.43        50          27       10.11   \n",
       "3      Matagami  49.75  -77.63     86.00        45           1       12.75   \n",
       "4     Saskylakh  71.92  114.08     54.55        57          10       11.18   \n",
       "5        Albany  42.60  -73.97     86.00        30           0        2.68   \n",
       "..          ...    ...     ...       ...       ...         ...         ...   \n",
       "545   Ust-Kuyga  70.02  135.60     69.85        51           2        7.00   \n",
       "546      Beidao  34.57  105.89     58.48        75           0        1.92   \n",
       "547    Sobolevo  54.43   31.90     65.55        83           0        6.82   \n",
       "548      Baykit  61.67   96.37     50.49        72         100        2.93   \n",
       "549  Dalbeattie  54.93   -3.82     68.00        85          95        1.01   \n",
       "\n",
       "    Country        Date  \n",
       "0        SA  1592417631  \n",
       "1        RU  1592417489  \n",
       "3        CA  1592417637  \n",
       "4        RU  1592417576  \n",
       "5        US  1592417380  \n",
       "..      ...         ...  \n",
       "545      RU  1592418769  \n",
       "546      CN  1592418772  \n",
       "547      RU  1592418774  \n",
       "548      RU  1592418776  \n",
       "549      GB  1592418778  \n",
       "\n",
       "[385 rows x 9 columns]"
      ]
     },
     "execution_count": 81,
     "metadata": {},
     "output_type": "execute_result"
    }
   ],
   "source": [
    "# Create Northern and Southern Hemisphere DataFrames\n",
    "Northern =weather_df.loc[weather_df[\"Lat\"]>=0,:]\n",
    "Southern=weather_df.loc[weather_df[\"Lat\"]<0, :]\n",
    "Northern"
   ]
  },
  {
   "cell_type": "code",
   "execution_count": 86,
   "metadata": {},
   "outputs": [],
   "source": []
  },
  {
   "cell_type": "markdown",
   "metadata": {},
   "source": [
    "####  Northern Hemisphere - Max Temp vs. Latitude Linear Regression"
   ]
  },
  {
   "cell_type": "code",
   "execution_count": 163,
   "metadata": {},
   "outputs": [
    {
     "data": {
      "image/png": "[encoded data removed]",
      "text/plain": [
       "<Figure size 432x288 with 1 Axes>"
      ]
     },
     "metadata": {
      "needs_background": "light"
     },
     "output_type": "display_data"
    },
    {
     "name": "stdout",
     "output_type": "stream",
     "text": [
      "The R squared is 0.5823605481839901\n"
     ]
    }
   ],
   "source": [
    "lattitude=Northern[\"Lat\"]\n",
    "temperature=Northern[\"Max Temp\"]\n",
    "#regresstion\n",
    "(slope, intercept, rvalue, pvalue, stderr) = linregress(lattitude, temperature)\n",
    "regress_values = lattitude * slope + intercept\n",
    "line_equation = \"y = \" + str(round(slope,2)) + \"x + \" + str(round(intercept,2))\n",
    "#plot\n",
    "plt.scatter(lattitude,temperature,marker=\"o\",color=\"b\",s=10,label=\"Lat vs Temp\")\n",
    "plt.plot(lattitude,regress_values,\"r-\")\n",
    "#format\n",
    "plt.title(\"Latitude vs. Temperature Plot '06/20/2020'\")\n",
    "plt.annotate(line_equation,(20,30),xytext=(50, 80),fontsize=10,color=\"red\")\n",
    "plt.legend(loc=\"upper right\")\n",
    "plt.xlabel(\"Latitude\")\n",
    "plt.ylabel(\"Temperature\")\n",
    "plt.xlim(min(lattitude)-5, max(lattitude)+5)\n",
    "plt.ylim(min(temperature)-5,max(temperature)+5)\n",
    "plt.savefig(\"Output_PNG/Northern_Latitude_vs._Temperature_Plot.PNG\")\n",
    "plt.show()\n",
    "rsquared=rvalue**2\n",
    "print(f\"The R squared is {rsquared}\")\n"
   ]
  },
  {
   "cell_type": "markdown",
   "metadata": {},
   "source": [
    "####  Southern Hemisphere - Max Temp vs. Latitude Linear Regression"
   ]
  },
  {
   "cell_type": "code",
   "execution_count": 157,
   "metadata": {},
   "outputs": [
    {
     "data": {
      "image/png": "[encoded data removed]",
      "text/plain": [
       "<Figure size 432x288 with 1 Axes>"
      ]
     },
     "metadata": {
      "needs_background": "light"
     },
     "output_type": "display_data"
    },
    {
     "name": "stdout",
     "output_type": "stream",
     "text": [
      "The R squared is 0.6075999055169525\n"
     ]
    }
   ],
   "source": [
    "lattitude=Southern[\"Lat\"]\n",
    "temperature=Southern[\"Max Temp\"]\n",
    "#regresstion\n",
    "(slope, intercept, rvalue, pvalue, stderr) = linregress(lattitude, temperature)\n",
    "regress_values = lattitude * slope + intercept\n",
    "line_equation = \"y = \" + str(round(slope,2)) + \"x + \" + str(round(intercept,2))\n",
    "#plot\n",
    "plt.scatter(lattitude,temperature,marker=\"o\",color=\"b\",s=10,label=\"Lat vs Temp\")\n",
    "plt.plot(lattitude,regress_values,\"r-\")\n",
    "#format\n",
    "plt.title(\"Latitude vs. Temperature Plot '06/20/2020'\")\n",
    "plt.annotate(line_equation,(40,50),xytext=(-30, 50),fontsize=1,color=\"red\")\n",
    "plt.legend(loc=\"lower right\")\n",
    "plt.xlabel(\"Latitude\")\n",
    "plt.ylabel(\"Temperature\")\n",
    "plt.xlim(min(lattitude)-5, max(lattitude)+5)\n",
    "plt.ylim(min(temperature)-5,max(temperature)+5)\n",
    "plt.savefig(\"Output_PNG/Southern_Latitude_vs._Temperature_Plot.PNG\")\n",
    "plt.show()\n",
    "rsquared=rvalue**2\n",
    "print(f\"The R squared is {rsquared}\")"
   ]
  },
  {
   "cell_type": "markdown",
   "metadata": {},
   "source": [
    "####  Northern Hemisphere - Humidity (%) vs. Latitude Linear Regression"
   ]
  },
  {
   "cell_type": "code",
   "execution_count": 173,
   "metadata": {},
   "outputs": [
    {
     "data": {
      "image/png": "[encoded data removed]",
      "text/plain": [
       "<Figure size 432x288 with 1 Axes>"
      ]
     },
     "metadata": {
      "needs_background": "light"
     },
     "output_type": "display_data"
    },
    {
     "name": "stdout",
     "output_type": "stream",
     "text": [
      "The R squared is 0.003842710877450862\n"
     ]
    }
   ],
   "source": [
    "lattitude=Northern[\"Lat\"]\n",
    "humidity=Northern[\"Humidity\"]\n",
    "#regresstion\n",
    "(slope, intercept, rvalue, pvalue, stderr) = linregress(lattitude, humidity)\n",
    "regress_values = lattitude * slope + intercept\n",
    "line_equation = \"y = \" + str(round(slope,2)) + \"x + \" + str(round(intercept,2))\n",
    "#plot\n",
    "plt.scatter(lattitude,humidity,marker=\"o\",color=\"b\",s=10,label=\"Lat vs Temp\")\n",
    "plt.plot(lattitude,regress_values,\"r-\")\n",
    "#format\n",
    "plt.title(\"Latitude vs. Humidity Plot '06/20/2020'\")\n",
    "plt.annotate(line_equation,(50,80),xytext=(50, 40),fontsize=1,color=\"red\")\n",
    "plt.legend(loc=\"lower right\")\n",
    "plt.xlabel(\"Latitude\")\n",
    "plt.ylabel(\"Humidity\")\n",
    "plt.xlim(min(lattitude)-5, max(lattitude)+5)\n",
    "plt.ylim(min(humidity)-5,max(humidity)+5)\n",
    "plt.savefig(\"Output_PNG/Northern_Latitude_vs._Humidity_Plot.PNG\")\n",
    "plt.show()\n",
    "rsquared=rvalue**2\n",
    "print(f\"The R squared is {rsquared}\")"
   ]
  },
  {
   "cell_type": "markdown",
   "metadata": {},
   "source": [
    "####  Southern Hemisphere - Humidity (%) vs. Latitude Linear Regression"
   ]
  },
  {
   "cell_type": "code",
   "execution_count": 147,
   "metadata": {},
   "outputs": [
    {
     "data": {
      "image/png": "[encoded data removed]",
      "text/plain": [
       "<Figure size 432x288 with 1 Axes>"
      ]
     },
     "metadata": {
      "needs_background": "light"
     },
     "output_type": "display_data"
    },
    {
     "name": "stdout",
     "output_type": "stream",
     "text": [
      "The R squared is 0.015471303682019325\n"
     ]
    }
   ],
   "source": [
    "lattitude=Southern[\"Lat\"]\n",
    "humidity=Southern[\"Humidity\"]\n",
    "#regresstion\n",
    "(slope, intercept, rvalue, pvalue, stderr) = linregress(lattitude, humidity)\n",
    "regress_values = lattitude * slope + intercept\n",
    "line_equation = \"y = \" + str(round(slope,2)) + \"x + \" + str(round(intercept,2))\n",
    "#plot\n",
    "plt.scatter(lattitude,humidity,marker=\"o\",color=\"b\",s=10,label=\"Lat vs Temp\")\n",
    "plt.plot(lattitude,regress_values,\"r-\")\n",
    "#format\n",
    "plt.title(\"Latitude vs. Humidity Plot '06/20/2020'\")\n",
    "plt.annotate(line_equation,(50,60),xytext=(50, 80),fontsize=1,color=\"red\")\n",
    "plt.legend(loc=\"lower right\")\n",
    "plt.xlabel(\"Latitude\")\n",
    "plt.ylabel(\"Humidity\")\n",
    "plt.xlim(min(lattitude)-5, max(lattitude)+5)\n",
    "plt.ylim(min(humidity)-5,max(humidity)+5)\n",
    "plt.savefig(\"Output_PNG/Southern_Latitude_vs._Humidity_Plot.PNG\")\n",
    "plt.show()\n",
    "rsquared=rvalue**2\n",
    "print(f\"The R squared is {rsquared}\")"
   ]
  },
  {
   "cell_type": "markdown",
   "metadata": {},
   "source": [
    "####  Northern Hemisphere - Cloudiness (%) vs. Latitude Linear Regression"
   ]
  },
  {
   "cell_type": "code",
   "execution_count": 164,
   "metadata": {},
   "outputs": [
    {
     "data": {
      "image/png": "[encoded data removed]",
      "text/plain": [
       "<Figure size 432x288 with 1 Axes>"
      ]
     },
     "metadata": {
      "needs_background": "light"
     },
     "output_type": "display_data"
    },
    {
     "name": "stdout",
     "output_type": "stream",
     "text": [
      "The R squared is 0.0005176116248173593\n"
     ]
    }
   ],
   "source": [
    "lattitude=Northern[\"Lat\"]\n",
    "cloudiness=Northern[\"Cloudiness\"]\n",
    "#regresstion\n",
    "(slope, intercept, rvalue, pvalue, stderr) = linregress(lattitude, cloudiness)\n",
    "regress_values = lattitude * slope + intercept\n",
    "line_equation = \"y = \" + str(round(slope,2)) + \"x + \" + str(round(intercept,2))\n",
    "#plot\n",
    "plt.scatter(lattitude,cloudiness,marker=\"o\",color=\"b\",s=10,label=\"Lat vs Temp\")\n",
    "plt.plot(lattitude,regress_values,\"r-\")\n",
    "#format\n",
    "plt.title(\"Latitude vs. Cloudiness Plot '06/20/2020'\")\n",
    "plt.annotate(line_equation,(50,60),xytext=(50, 80),fontsize=1,color=\"red\")\n",
    "plt.legend(loc=\"lower right\")\n",
    "plt.xlabel(\"Latitude\")\n",
    "plt.ylabel(\"Cloudiness\")\n",
    "plt.xlim(min(lattitude)-5, max(lattitude)+5)\n",
    "plt.ylim(min(cloudiness)-5,max(cloudiness)+5)\n",
    "plt.savefig(\"Output_PNG/Northern_Latitude_vs._Cloudiness_Plot.PNG\")\n",
    "plt.show()\n",
    "rsquared=rvalue**2\n",
    "print(f\"The R squared is {rsquared}\")"
   ]
  },
  {
   "cell_type": "markdown",
   "metadata": {},
   "source": [
    "####  Southern Hemisphere - Cloudiness (%) vs. Latitude Linear Regression"
   ]
  },
  {
   "cell_type": "code",
   "execution_count": 149,
   "metadata": {},
   "outputs": [
    {
     "data": {
      "image/png": "[encoded data removed]",
      "text/plain": [
       "<Figure size 432x288 with 1 Axes>"
      ]
     },
     "metadata": {
      "needs_background": "light"
     },
     "output_type": "display_data"
    },
    {
     "name": "stdout",
     "output_type": "stream",
     "text": [
      "The R squared is 0.003777727497531335\n"
     ]
    }
   ],
   "source": [
    "lattitude=Southern[\"Lat\"]\n",
    "cloudiness=Southern[\"Cloudiness\"]\n",
    "#regresstion\n",
    "(slope, intercept, rvalue, pvalue, stderr) = linregress(lattitude, cloudiness)\n",
    "regress_values = lattitude * slope + intercept\n",
    "line_equation = \"y = \" + str(round(slope,2)) + \"x + \" + str(round(intercept,2))\n",
    "#plot\n",
    "plt.scatter(lattitude,cloudiness,marker=\"o\",color=\"b\",s=10,label=\"Lat vs Temp\")\n",
    "plt.plot(lattitude,regress_values,\"r-\")\n",
    "#format\n",
    "plt.title(\"Latitude vs. Cloudiness Plot '06/20/2020'\")\n",
    "plt.annotate(line_equation,(50,60),xytext=(50, 80),fontsize=1,color=\"red\")\n",
    "plt.legend(loc=\"lower right\")\n",
    "plt.xlabel(\"Latitude\")\n",
    "plt.ylabel(\"Cloudiness\")\n",
    "plt.xlim(min(lattitude)-5, max(lattitude)+5)\n",
    "plt.ylim(min(cloudiness)-5,max(cloudiness)+5)\n",
    "plt.savefig(\"Output_PNG/Souththern_Latitude_vs._Cloudiness_Plot.PNG\")\n",
    "plt.show()\n",
    "rsquared=rvalue**2\n",
    "print(f\"The R squared is {rsquared}\")"
   ]
  },
  {
   "cell_type": "markdown",
   "metadata": {},
   "source": [
    "####  Northern Hemisphere - Wind Speed (mph) vs. Latitude Linear Regression"
   ]
  },
  {
   "cell_type": "code",
   "execution_count": 165,
   "metadata": {},
   "outputs": [
    {
     "data": {
      "image/png": "[encoded data removed]",
      "text/plain": [
       "<Figure size 432x288 with 1 Axes>"
      ]
     },
     "metadata": {
      "needs_background": "light"
     },
     "output_type": "display_data"
    },
    {
     "name": "stdout",
     "output_type": "stream",
     "text": [
      "The R squared is 0.015086334056538326\n"
     ]
    }
   ],
   "source": [
    "lattitude=Northern[\"Lat\"]\n",
    "wind_speed=Northern[\"Wind Speed\"]\n",
    "#regresstion\n",
    "(slope, intercept, rvalue, pvalue, stderr) = linregress(lattitude, wind_speed)\n",
    "regress_values = lattitude * slope + intercept\n",
    "line_equation = \"y = \" + str(round(slope,2)) + \"x + \" + str(round(intercept,2))\n",
    "#plot\n",
    "plt.scatter(lattitude,wind_speed,marker=\"o\",color=\"b\",s=10,label=\"Lat vs Temp\")\n",
    "plt.plot(lattitude,regress_values,\"r-\")\n",
    "#format\n",
    "plt.title(\"Latitude vs. Wind Speed Plot '06/20/2020'\")\n",
    "plt.annotate(line_equation,(50,60),xytext=(50, 30),fontsize=1,color=\"red\")\n",
    "plt.legend(loc=\"lower right\")\n",
    "plt.xlabel(\"Latitude\")\n",
    "plt.ylabel(\"Wind Speed\")\n",
    "plt.xlim(min(lattitude)-5, max(lattitude)+5)\n",
    "plt.ylim(min(wind_speed)-5,max(wind_speed)+5)\n",
    "plt.savefig(\"Output_PNG/Northern_Latitude_vs._Wind_Speed_Plot.PNG\")\n",
    "plt.show()\n",
    "rsquared=rvalue**2\n",
    "print(f\"The R squared is {rsquared}\")"
   ]
  },
  {
   "cell_type": "markdown",
   "metadata": {},
   "source": [
    "####  Southern Hemisphere - Wind Speed (mph) vs. Latitude Linear Regression"
   ]
  },
  {
   "cell_type": "code",
   "execution_count": 151,
   "metadata": {},
   "outputs": [
    {
     "data": {
      "image/png": "[encoded data removed]",
      "text/plain": [
       "<Figure size 432x288 with 1 Axes>"
      ]
     },
     "metadata": {
      "needs_background": "light"
     },
     "output_type": "display_data"
    },
    {
     "name": "stdout",
     "output_type": "stream",
     "text": [
      "The R squared is 0.0036187262747553787\n"
     ]
    }
   ],
   "source": [
    "lattitude=Southern[\"Lat\"]\n",
    "wind_speed=Southern[\"Wind Speed\"]\n",
    "#regresstion\n",
    "(slope, intercept, rvalue, pvalue, stderr) = linregress(lattitude, wind_speed)\n",
    "regress_values = lattitude * slope + intercept\n",
    "line_equation = \"y = \" + str(round(slope,2)) + \"x + \" + str(round(intercept,2))\n",
    "#plot\n",
    "plt.scatter(lattitude,wind_speed,marker=\"o\",color=\"b\",s=10,label=\"Lat vs Temp\")\n",
    "plt.plot(lattitude,regress_values,\"r-\")\n",
    "#format\n",
    "plt.title(\"Latitude vs. Wind Speed Plot '06/20/2020'\")\n",
    "plt.annotate(line_equation,(50,60),xytext=(50, 80),fontsize=1,color=\"red\")\n",
    "plt.legend(loc=\"lower right\")\n",
    "plt.xlabel(\"Latitude\")\n",
    "plt.ylabel(\"Wind Speed\")\n",
    "plt.xlim(min(lattitude)-5, max(lattitude)+5)\n",
    "plt.ylim(min(wind_speed)-5,max(wind_speed)+5)\n",
    "plt.savefig(\"Output_PNG/Southern_Latitude_vs._Wind_Speed_Plot.PNG\")\n",
    "plt.show()\n",
    "rsquared=rvalue**2\n",
    "print(f\"The R squared is {rsquared}\")"
   ]
  },
  {
   "cell_type": "code",
   "execution_count": null,
   "metadata": {},
   "outputs": [],
   "source": []
  }
 ],
 "metadata": {
  "anaconda-cloud": {},
  "kernel_info": {
   "name": "python3"
  },
  "kernelspec": {
   "display_name": "Python 3",
   "language": "python",
   "name": "python3"
  },
  "language_info": {
   "codemirror_mode": {
    "name": "ipython",
    "version": 3
   },
   "file_extension": ".py",
   "mimetype": "text/x-python",
   "name": "python",
   "nbconvert_exporter": "python",
   "pygments_lexer": "ipython3",
   "version": "3.7.6"
  },
  "latex_envs": {
   "LaTeX_envs_menu_present": true,
   "autoclose": false,
   "autocomplete": true,
   "bibliofile": "biblio.bib",
   "cite_by": "apalike",
   "current_citInitial": 1,
   "eqLabelWithNumbers": true,
   "eqNumInitial": 1,
   "hotkeys": {
    "equation": "Ctrl-E",
    "itemize": "Ctrl-I"
   },
   "labels_anchors": false,
   "latex_user_defs": false,
   "report_style_numbering": false,
   "user_envs_cfg": false
  },
  "nteract": {
   "version": "0.12.3"
  }
 },
 "nbformat": 4,
 "nbformat_minor": 2
}
